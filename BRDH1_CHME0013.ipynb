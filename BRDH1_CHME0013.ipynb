{
 "cells": [
  {
   "cell_type": "markdown",
   "metadata": {},
   "source": [
    "# Assignment A\n",
    "### Introduction\n",
    "In this assignment, we analyse the [GP Practice Prescribing dataset (April 2018)](https://digital.nhs.uk/data-and-information/publications/statistical/practice-level-prescribing-data/april-2018#summary) combined with [GP Patients Registered dataset (April 2018)](https://digital.nhs.uk/data-and-information/publications/statistical/patients-registered-at-a-gp-practice/patients-registered-at-a-gp-practice-april-2018-special-topic---registered-patients-compared-to-the-projected-resident-population-in-england#key-facts) to investigate the prescribing cost in April 2018 using python. "
   ]
  },
  {
   "cell_type": "markdown",
   "metadata": {},
   "source": [
    "### Setup\n",
    "1. import necessary libraries\n",
    "2. read the csv files\n"
   ]
  },
  {
   "cell_type": "markdown",
   "metadata": {},
   "source": [
    "Please note that all the files loaded in this analysis should be located in the current working directory.  \n",
    "The github url can be find [here](https://github.com/Fair95/UCL_Data_Science_PJ1)"
   ]
  },
  {
   "cell_type": "code",
   "execution_count": 1,
   "metadata": {},
   "outputs": [],
   "source": [
    "# import necessary packages/modules\n",
    "import pandas as pd\n",
    "import matplotlib.pyplot as plt\n",
    "import numpy as np\n",
    "import scipy.stats\n",
    "from scipy.stats import linregress\n",
    "from scipy.stats import norm\n"
   ]
  },
  {
   "cell_type": "code",
   "execution_count": 2,
   "metadata": {},
   "outputs": [],
   "source": [
    "# Read patients data and stored as patients\n",
    "patients = pd.read_csv('gp-reg-pat-prac-all.csv').rename(columns=lambda x: x.strip())\n",
    "\n",
    "# Read rigional data of the GP Practice and stored as region\n",
    "region = pd.read_csv('gp-reg-pat-prac-map.csv').rename(columns=lambda x: x.strip())\n",
    "\n",
    "# Read prescription data and stored as presc\n",
    "presc = pd.read_csv('T201804PDPI+BNFT.CSV').rename(columns=lambda x: x.strip())\n",
    "\n",
    "# Read drug data and stored as drug\n",
    "drug = pd.read_csv('T201804CHEM+SUBS.CSV').rename(columns=lambda x: x.strip())"
   ]
  },
  {
   "cell_type": "code",
   "execution_count": 3,
   "metadata": {},
   "outputs": [],
   "source": [
    "pop = pd.read_csv('pop.csv').rename(columns=lambda x: x.strip())"
   ]
  },
  {
   "cell_type": "markdown",
   "metadata": {},
   "source": [
    "Here is a brief view of how each data looks:"
   ]
  },
  {
   "cell_type": "code",
   "execution_count": 4,
   "metadata": {},
   "outputs": [
    {
     "name": "stdout",
     "output_type": "stream",
     "text": [
      "<class 'pandas.core.frame.DataFrame'>\n",
      "RangeIndex: 7241 entries, 0 to 7240\n",
      "Data columns (total 10 columns):\n",
      "PUBLICATION           7241 non-null object\n",
      "EXTRACT_DATE          7241 non-null object\n",
      "TYPE                  7241 non-null object\n",
      "CCG_CODE              7241 non-null object\n",
      "ONS_CCG_CODE          7241 non-null object\n",
      "CODE                  7241 non-null object\n",
      "POSTCODE              7241 non-null object\n",
      "SEX                   7241 non-null object\n",
      "AGE                   7241 non-null object\n",
      "NUMBER_OF_PATIENTS    7241 non-null int64\n",
      "dtypes: int64(1), object(9)\n",
      "memory usage: 565.8+ KB\n"
     ]
    }
   ],
   "source": [
    "patients.info()"
   ]
  },
  {
   "cell_type": "code",
   "execution_count": 5,
   "metadata": {},
   "outputs": [
    {
     "data": {
      "text/html": [
       "<div>\n",
       "<style scoped>\n",
       "    .dataframe tbody tr th:only-of-type {\n",
       "        vertical-align: middle;\n",
       "    }\n",
       "\n",
       "    .dataframe tbody tr th {\n",
       "        vertical-align: top;\n",
       "    }\n",
       "\n",
       "    .dataframe thead th {\n",
       "        text-align: right;\n",
       "    }\n",
       "</style>\n",
       "<table border=\"1\" class=\"dataframe\">\n",
       "  <thead>\n",
       "    <tr style=\"text-align: right;\">\n",
       "      <th></th>\n",
       "      <th>PUBLICATION</th>\n",
       "      <th>EXTRACT_DATE</th>\n",
       "      <th>TYPE</th>\n",
       "      <th>CCG_CODE</th>\n",
       "      <th>ONS_CCG_CODE</th>\n",
       "      <th>CODE</th>\n",
       "      <th>POSTCODE</th>\n",
       "      <th>SEX</th>\n",
       "      <th>AGE</th>\n",
       "      <th>NUMBER_OF_PATIENTS</th>\n",
       "    </tr>\n",
       "  </thead>\n",
       "  <tbody>\n",
       "    <tr>\n",
       "      <th>0</th>\n",
       "      <td>GP_PRAC_PAT_LIST</td>\n",
       "      <td>01APR2018</td>\n",
       "      <td>GP</td>\n",
       "      <td>00C</td>\n",
       "      <td>E38000042</td>\n",
       "      <td>A83005</td>\n",
       "      <td>DL1 3RT</td>\n",
       "      <td>ALL</td>\n",
       "      <td>ALL</td>\n",
       "      <td>11826</td>\n",
       "    </tr>\n",
       "    <tr>\n",
       "      <th>1</th>\n",
       "      <td>GP_PRAC_PAT_LIST</td>\n",
       "      <td>01APR2018</td>\n",
       "      <td>GP</td>\n",
       "      <td>00C</td>\n",
       "      <td>E38000042</td>\n",
       "      <td>A83006</td>\n",
       "      <td>DL3 6HZ</td>\n",
       "      <td>ALL</td>\n",
       "      <td>ALL</td>\n",
       "      <td>8044</td>\n",
       "    </tr>\n",
       "    <tr>\n",
       "      <th>2</th>\n",
       "      <td>GP_PRAC_PAT_LIST</td>\n",
       "      <td>01APR2018</td>\n",
       "      <td>GP</td>\n",
       "      <td>00C</td>\n",
       "      <td>E38000042</td>\n",
       "      <td>A83010</td>\n",
       "      <td>DL3 9JP</td>\n",
       "      <td>ALL</td>\n",
       "      <td>ALL</td>\n",
       "      <td>14070</td>\n",
       "    </tr>\n",
       "    <tr>\n",
       "      <th>3</th>\n",
       "      <td>GP_PRAC_PAT_LIST</td>\n",
       "      <td>01APR2018</td>\n",
       "      <td>GP</td>\n",
       "      <td>00C</td>\n",
       "      <td>E38000042</td>\n",
       "      <td>A83013</td>\n",
       "      <td>DL1 4YL</td>\n",
       "      <td>ALL</td>\n",
       "      <td>ALL</td>\n",
       "      <td>11298</td>\n",
       "    </tr>\n",
       "    <tr>\n",
       "      <th>4</th>\n",
       "      <td>GP_PRAC_PAT_LIST</td>\n",
       "      <td>01APR2018</td>\n",
       "      <td>GP</td>\n",
       "      <td>00C</td>\n",
       "      <td>E38000042</td>\n",
       "      <td>A83031</td>\n",
       "      <td>DL3 8SQ</td>\n",
       "      <td>ALL</td>\n",
       "      <td>ALL</td>\n",
       "      <td>10109</td>\n",
       "    </tr>\n",
       "  </tbody>\n",
       "</table>\n",
       "</div>"
      ],
      "text/plain": [
       "        PUBLICATION EXTRACT_DATE TYPE CCG_CODE ONS_CCG_CODE    CODE POSTCODE  \\\n",
       "0  GP_PRAC_PAT_LIST    01APR2018   GP      00C    E38000042  A83005  DL1 3RT   \n",
       "1  GP_PRAC_PAT_LIST    01APR2018   GP      00C    E38000042  A83006  DL3 6HZ   \n",
       "2  GP_PRAC_PAT_LIST    01APR2018   GP      00C    E38000042  A83010  DL3 9JP   \n",
       "3  GP_PRAC_PAT_LIST    01APR2018   GP      00C    E38000042  A83013  DL1 4YL   \n",
       "4  GP_PRAC_PAT_LIST    01APR2018   GP      00C    E38000042  A83031  DL3 8SQ   \n",
       "\n",
       "   SEX  AGE  NUMBER_OF_PATIENTS  \n",
       "0  ALL  ALL               11826  \n",
       "1  ALL  ALL                8044  \n",
       "2  ALL  ALL               14070  \n",
       "3  ALL  ALL               11298  \n",
       "4  ALL  ALL               10109  "
      ]
     },
     "execution_count": 5,
     "metadata": {},
     "output_type": "execute_result"
    }
   ],
   "source": [
    "patients.head()"
   ]
  },
  {
   "cell_type": "code",
   "execution_count": 6,
   "metadata": {
    "scrolled": true
   },
   "outputs": [
    {
     "name": "stdout",
     "output_type": "stream",
     "text": [
      "<class 'pandas.core.frame.DataFrame'>\n",
      "RangeIndex: 9748354 entries, 0 to 9748353\n",
      "Data columns (total 11 columns):\n",
      "SHA         object\n",
      "PCT         object\n",
      "PRACTICE    object\n",
      "BNF CODE    object\n",
      "BNF NAME    object\n",
      "ITEMS       int64\n",
      "NIC         float64\n",
      "ACT COST    float64\n",
      "QUANTITY    int64\n",
      "PERIOD      int64\n",
      "            object\n",
      "dtypes: float64(2), int64(3), object(6)\n",
      "memory usage: 818.1+ MB\n",
      "number of Null values is: 0\n"
     ]
    }
   ],
   "source": [
    "presc.info()\n",
    "# whether null values exists\n",
    "print('number of Null values is:',presc.isnull().any().sum())"
   ]
  },
  {
   "cell_type": "code",
   "execution_count": 7,
   "metadata": {
    "scrolled": true
   },
   "outputs": [
    {
     "data": {
      "text/html": [
       "<div>\n",
       "<style scoped>\n",
       "    .dataframe tbody tr th:only-of-type {\n",
       "        vertical-align: middle;\n",
       "    }\n",
       "\n",
       "    .dataframe tbody tr th {\n",
       "        vertical-align: top;\n",
       "    }\n",
       "\n",
       "    .dataframe thead th {\n",
       "        text-align: right;\n",
       "    }\n",
       "</style>\n",
       "<table border=\"1\" class=\"dataframe\">\n",
       "  <thead>\n",
       "    <tr style=\"text-align: right;\">\n",
       "      <th></th>\n",
       "      <th>SHA</th>\n",
       "      <th>PCT</th>\n",
       "      <th>PRACTICE</th>\n",
       "      <th>BNF CODE</th>\n",
       "      <th>BNF NAME</th>\n",
       "      <th>ITEMS</th>\n",
       "      <th>NIC</th>\n",
       "      <th>ACT COST</th>\n",
       "      <th>QUANTITY</th>\n",
       "      <th>PERIOD</th>\n",
       "      <th></th>\n",
       "    </tr>\n",
       "  </thead>\n",
       "  <tbody>\n",
       "    <tr>\n",
       "      <th>0</th>\n",
       "      <td>Q44</td>\n",
       "      <td>RTV</td>\n",
       "      <td>Y04937</td>\n",
       "      <td>0401010Z0AAAAAA</td>\n",
       "      <td>Zopiclone_Tab 7.5mg</td>\n",
       "      <td>6</td>\n",
       "      <td>1.56</td>\n",
       "      <td>2.12</td>\n",
       "      <td>63</td>\n",
       "      <td>201804</td>\n",
       "      <td></td>\n",
       "    </tr>\n",
       "    <tr>\n",
       "      <th>1</th>\n",
       "      <td>Q44</td>\n",
       "      <td>RTV</td>\n",
       "      <td>Y04937</td>\n",
       "      <td>0401020K0AAAHAH</td>\n",
       "      <td>Diazepam_Tab 2mg</td>\n",
       "      <td>4</td>\n",
       "      <td>0.87</td>\n",
       "      <td>1.15</td>\n",
       "      <td>73</td>\n",
       "      <td>201804</td>\n",
       "      <td></td>\n",
       "    </tr>\n",
       "    <tr>\n",
       "      <th>2</th>\n",
       "      <td>Q44</td>\n",
       "      <td>RTV</td>\n",
       "      <td>Y04937</td>\n",
       "      <td>0401020K0AAAIAI</td>\n",
       "      <td>Diazepam_Tab 5mg</td>\n",
       "      <td>2</td>\n",
       "      <td>0.46</td>\n",
       "      <td>0.56</td>\n",
       "      <td>35</td>\n",
       "      <td>201804</td>\n",
       "      <td></td>\n",
       "    </tr>\n",
       "    <tr>\n",
       "      <th>3</th>\n",
       "      <td>Q44</td>\n",
       "      <td>RTV</td>\n",
       "      <td>Y04937</td>\n",
       "      <td>0402010ABAAABAB</td>\n",
       "      <td>Quetiapine_Tab 25mg</td>\n",
       "      <td>1</td>\n",
       "      <td>2.60</td>\n",
       "      <td>2.52</td>\n",
       "      <td>14</td>\n",
       "      <td>201804</td>\n",
       "      <td></td>\n",
       "    </tr>\n",
       "    <tr>\n",
       "      <th>4</th>\n",
       "      <td>Q44</td>\n",
       "      <td>RTV</td>\n",
       "      <td>Y04937</td>\n",
       "      <td>0402010ADAAAAAA</td>\n",
       "      <td>Aripiprazole_Tab 10mg</td>\n",
       "      <td>1</td>\n",
       "      <td>1.53</td>\n",
       "      <td>1.53</td>\n",
       "      <td>14</td>\n",
       "      <td>201804</td>\n",
       "      <td></td>\n",
       "    </tr>\n",
       "  </tbody>\n",
       "</table>\n",
       "</div>"
      ],
      "text/plain": [
       "   SHA  PCT PRACTICE         BNF CODE  \\\n",
       "0  Q44  RTV   Y04937  0401010Z0AAAAAA   \n",
       "1  Q44  RTV   Y04937  0401020K0AAAHAH   \n",
       "2  Q44  RTV   Y04937  0401020K0AAAIAI   \n",
       "3  Q44  RTV   Y04937  0402010ABAAABAB   \n",
       "4  Q44  RTV   Y04937  0402010ADAAAAAA   \n",
       "\n",
       "                                   BNF NAME  ITEMS   NIC  ACT COST  QUANTITY  \\\n",
       "0  Zopiclone_Tab 7.5mg                           6  1.56      2.12        63   \n",
       "1  Diazepam_Tab 2mg                              4  0.87      1.15        73   \n",
       "2  Diazepam_Tab 5mg                              2  0.46      0.56        35   \n",
       "3  Quetiapine_Tab 25mg                           1  2.60      2.52        14   \n",
       "4  Aripiprazole_Tab 10mg                         1  1.53      1.53        14   \n",
       "\n",
       "   PERIOD                      \n",
       "0  201804                      \n",
       "1  201804                      \n",
       "2  201804                      \n",
       "3  201804                      \n",
       "4  201804                      "
      ]
     },
     "execution_count": 7,
     "metadata": {},
     "output_type": "execute_result"
    }
   ],
   "source": [
    "presc.head()"
   ]
  },
  {
   "cell_type": "code",
   "execution_count": 8,
   "metadata": {},
   "outputs": [
    {
     "name": "stdout",
     "output_type": "stream",
     "text": [
      "<class 'pandas.core.frame.DataFrame'>\n",
      "RangeIndex: 7241 entries, 0 to 7240\n",
      "Data columns (total 16 columns):\n",
      "PUBLICATION             7241 non-null object\n",
      "EXTRACT_DATE            7241 non-null object\n",
      "PRACTICE_CODE           7241 non-null object\n",
      "PRACTICE_NAME           7241 non-null object\n",
      "PRACTICE_POSTCODE       7241 non-null object\n",
      "ONS_CCG_CODE            7241 non-null object\n",
      "CCG_CODE                7241 non-null object\n",
      "CCG_NAME                7241 non-null object\n",
      "STP_CODE                7241 non-null object\n",
      "STP_NAME                7241 non-null object\n",
      "ONS_REGION_CODE         7241 non-null object\n",
      "REGION_CODE             7241 non-null object\n",
      "REGION_NAME             7241 non-null object\n",
      "ONS_COMM_REGION_CODE    7241 non-null object\n",
      "COMM_REGION_CODE        7241 non-null object\n",
      "COMM_REGION_NAME        7241 non-null object\n",
      "dtypes: object(16)\n",
      "memory usage: 905.2+ KB\n"
     ]
    }
   ],
   "source": [
    "region.info()"
   ]
  },
  {
   "cell_type": "code",
   "execution_count": 9,
   "metadata": {},
   "outputs": [
    {
     "data": {
      "text/html": [
       "<div>\n",
       "<style scoped>\n",
       "    .dataframe tbody tr th:only-of-type {\n",
       "        vertical-align: middle;\n",
       "    }\n",
       "\n",
       "    .dataframe tbody tr th {\n",
       "        vertical-align: top;\n",
       "    }\n",
       "\n",
       "    .dataframe thead th {\n",
       "        text-align: right;\n",
       "    }\n",
       "</style>\n",
       "<table border=\"1\" class=\"dataframe\">\n",
       "  <thead>\n",
       "    <tr style=\"text-align: right;\">\n",
       "      <th></th>\n",
       "      <th>PUBLICATION</th>\n",
       "      <th>EXTRACT_DATE</th>\n",
       "      <th>PRACTICE_CODE</th>\n",
       "      <th>PRACTICE_NAME</th>\n",
       "      <th>PRACTICE_POSTCODE</th>\n",
       "      <th>ONS_CCG_CODE</th>\n",
       "      <th>CCG_CODE</th>\n",
       "      <th>CCG_NAME</th>\n",
       "      <th>STP_CODE</th>\n",
       "      <th>STP_NAME</th>\n",
       "      <th>ONS_REGION_CODE</th>\n",
       "      <th>REGION_CODE</th>\n",
       "      <th>REGION_NAME</th>\n",
       "      <th>ONS_COMM_REGION_CODE</th>\n",
       "      <th>COMM_REGION_CODE</th>\n",
       "      <th>COMM_REGION_NAME</th>\n",
       "    </tr>\n",
       "  </thead>\n",
       "  <tbody>\n",
       "    <tr>\n",
       "      <th>0</th>\n",
       "      <td>GP_PRAC_PAT_LIST</td>\n",
       "      <td>01-Apr-18</td>\n",
       "      <td>A81001</td>\n",
       "      <td>THE DENSHAM SURGERY</td>\n",
       "      <td>TS18 1HU</td>\n",
       "      <td>E38000075</td>\n",
       "      <td>00K</td>\n",
       "      <td>NHS Hartlepool and Stockton-on-Tees CCG</td>\n",
       "      <td>E54000045</td>\n",
       "      <td>Durham, Darlington, Teesside, Hambleton, Richm...</td>\n",
       "      <td>E39000039</td>\n",
       "      <td>Q74</td>\n",
       "      <td>NHS England North (Cumbria and North East)</td>\n",
       "      <td>E40000001</td>\n",
       "      <td>Y54</td>\n",
       "      <td>North Of England</td>\n",
       "    </tr>\n",
       "    <tr>\n",
       "      <th>1</th>\n",
       "      <td>GP_PRAC_PAT_LIST</td>\n",
       "      <td>01-Apr-18</td>\n",
       "      <td>A81002</td>\n",
       "      <td>QUEENS PARK MEDICAL CENTRE</td>\n",
       "      <td>TS18 2AW</td>\n",
       "      <td>E38000075</td>\n",
       "      <td>00K</td>\n",
       "      <td>NHS Hartlepool and Stockton-on-Tees CCG</td>\n",
       "      <td>E54000045</td>\n",
       "      <td>Durham, Darlington, Teesside, Hambleton, Richm...</td>\n",
       "      <td>E39000039</td>\n",
       "      <td>Q74</td>\n",
       "      <td>NHS England North (Cumbria and North East)</td>\n",
       "      <td>E40000001</td>\n",
       "      <td>Y54</td>\n",
       "      <td>North Of England</td>\n",
       "    </tr>\n",
       "    <tr>\n",
       "      <th>2</th>\n",
       "      <td>GP_PRAC_PAT_LIST</td>\n",
       "      <td>01-Apr-18</td>\n",
       "      <td>A81004</td>\n",
       "      <td>BLUEBELL MEDICAL CENTRE</td>\n",
       "      <td>TS5 8SB</td>\n",
       "      <td>E38000162</td>\n",
       "      <td>00M</td>\n",
       "      <td>NHS South Tees CCG</td>\n",
       "      <td>E54000045</td>\n",
       "      <td>Durham, Darlington, Teesside, Hambleton, Richm...</td>\n",
       "      <td>E39000039</td>\n",
       "      <td>Q74</td>\n",
       "      <td>NHS England North (Cumbria and North East)</td>\n",
       "      <td>E40000001</td>\n",
       "      <td>Y54</td>\n",
       "      <td>North Of England</td>\n",
       "    </tr>\n",
       "    <tr>\n",
       "      <th>3</th>\n",
       "      <td>GP_PRAC_PAT_LIST</td>\n",
       "      <td>01-Apr-18</td>\n",
       "      <td>A81005</td>\n",
       "      <td>SPRINGWOOD SURGERY</td>\n",
       "      <td>TS14 7DJ</td>\n",
       "      <td>E38000162</td>\n",
       "      <td>00M</td>\n",
       "      <td>NHS South Tees CCG</td>\n",
       "      <td>E54000045</td>\n",
       "      <td>Durham, Darlington, Teesside, Hambleton, Richm...</td>\n",
       "      <td>E39000039</td>\n",
       "      <td>Q74</td>\n",
       "      <td>NHS England North (Cumbria and North East)</td>\n",
       "      <td>E40000001</td>\n",
       "      <td>Y54</td>\n",
       "      <td>North Of England</td>\n",
       "    </tr>\n",
       "    <tr>\n",
       "      <th>4</th>\n",
       "      <td>GP_PRAC_PAT_LIST</td>\n",
       "      <td>01-Apr-18</td>\n",
       "      <td>A81006</td>\n",
       "      <td>TENNANT STREET MEDICAL PRACTICE</td>\n",
       "      <td>TS18 2AT</td>\n",
       "      <td>E38000075</td>\n",
       "      <td>00K</td>\n",
       "      <td>NHS Hartlepool and Stockton-on-Tees CCG</td>\n",
       "      <td>E54000045</td>\n",
       "      <td>Durham, Darlington, Teesside, Hambleton, Richm...</td>\n",
       "      <td>E39000039</td>\n",
       "      <td>Q74</td>\n",
       "      <td>NHS England North (Cumbria and North East)</td>\n",
       "      <td>E40000001</td>\n",
       "      <td>Y54</td>\n",
       "      <td>North Of England</td>\n",
       "    </tr>\n",
       "  </tbody>\n",
       "</table>\n",
       "</div>"
      ],
      "text/plain": [
       "        PUBLICATION EXTRACT_DATE PRACTICE_CODE  \\\n",
       "0  GP_PRAC_PAT_LIST    01-Apr-18        A81001   \n",
       "1  GP_PRAC_PAT_LIST    01-Apr-18        A81002   \n",
       "2  GP_PRAC_PAT_LIST    01-Apr-18        A81004   \n",
       "3  GP_PRAC_PAT_LIST    01-Apr-18        A81005   \n",
       "4  GP_PRAC_PAT_LIST    01-Apr-18        A81006   \n",
       "\n",
       "                     PRACTICE_NAME PRACTICE_POSTCODE ONS_CCG_CODE CCG_CODE  \\\n",
       "0              THE DENSHAM SURGERY          TS18 1HU    E38000075      00K   \n",
       "1       QUEENS PARK MEDICAL CENTRE          TS18 2AW    E38000075      00K   \n",
       "2          BLUEBELL MEDICAL CENTRE           TS5 8SB    E38000162      00M   \n",
       "3               SPRINGWOOD SURGERY          TS14 7DJ    E38000162      00M   \n",
       "4  TENNANT STREET MEDICAL PRACTICE          TS18 2AT    E38000075      00K   \n",
       "\n",
       "                                  CCG_NAME   STP_CODE  \\\n",
       "0  NHS Hartlepool and Stockton-on-Tees CCG  E54000045   \n",
       "1  NHS Hartlepool and Stockton-on-Tees CCG  E54000045   \n",
       "2                       NHS South Tees CCG  E54000045   \n",
       "3                       NHS South Tees CCG  E54000045   \n",
       "4  NHS Hartlepool and Stockton-on-Tees CCG  E54000045   \n",
       "\n",
       "                                            STP_NAME ONS_REGION_CODE  \\\n",
       "0  Durham, Darlington, Teesside, Hambleton, Richm...       E39000039   \n",
       "1  Durham, Darlington, Teesside, Hambleton, Richm...       E39000039   \n",
       "2  Durham, Darlington, Teesside, Hambleton, Richm...       E39000039   \n",
       "3  Durham, Darlington, Teesside, Hambleton, Richm...       E39000039   \n",
       "4  Durham, Darlington, Teesside, Hambleton, Richm...       E39000039   \n",
       "\n",
       "  REGION_CODE                                 REGION_NAME  \\\n",
       "0         Q74  NHS England North (Cumbria and North East)   \n",
       "1         Q74  NHS England North (Cumbria and North East)   \n",
       "2         Q74  NHS England North (Cumbria and North East)   \n",
       "3         Q74  NHS England North (Cumbria and North East)   \n",
       "4         Q74  NHS England North (Cumbria and North East)   \n",
       "\n",
       "  ONS_COMM_REGION_CODE COMM_REGION_CODE  COMM_REGION_NAME  \n",
       "0            E40000001              Y54  North Of England  \n",
       "1            E40000001              Y54  North Of England  \n",
       "2            E40000001              Y54  North Of England  \n",
       "3            E40000001              Y54  North Of England  \n",
       "4            E40000001              Y54  North Of England  "
      ]
     },
     "execution_count": 9,
     "metadata": {},
     "output_type": "execute_result"
    }
   ],
   "source": [
    "region.head()"
   ]
  },
  {
   "cell_type": "code",
   "execution_count": 10,
   "metadata": {},
   "outputs": [
    {
     "name": "stdout",
     "output_type": "stream",
     "text": [
      "<class 'pandas.core.frame.DataFrame'>\n",
      "RangeIndex: 3496 entries, 0 to 3495\n",
      "Data columns (total 4 columns):\n",
      "CHEM SUB    3496 non-null object\n",
      "NAME        3496 non-null object\n",
      "201804      3496 non-null object\n",
      "            0 non-null float64\n",
      "dtypes: float64(1), object(3)\n",
      "memory usage: 109.3+ KB\n"
     ]
    }
   ],
   "source": [
    "drug.info()"
   ]
  },
  {
   "cell_type": "code",
   "execution_count": 11,
   "metadata": {},
   "outputs": [
    {
     "data": {
      "text/html": [
       "<div>\n",
       "<style scoped>\n",
       "    .dataframe tbody tr th:only-of-type {\n",
       "        vertical-align: middle;\n",
       "    }\n",
       "\n",
       "    .dataframe tbody tr th {\n",
       "        vertical-align: top;\n",
       "    }\n",
       "\n",
       "    .dataframe thead th {\n",
       "        text-align: right;\n",
       "    }\n",
       "</style>\n",
       "<table border=\"1\" class=\"dataframe\">\n",
       "  <thead>\n",
       "    <tr style=\"text-align: right;\">\n",
       "      <th></th>\n",
       "      <th>CHEM SUB</th>\n",
       "      <th>NAME</th>\n",
       "      <th>201804</th>\n",
       "      <th></th>\n",
       "    </tr>\n",
       "  </thead>\n",
       "  <tbody>\n",
       "    <tr>\n",
       "      <th>0</th>\n",
       "      <td>0101010A0</td>\n",
       "      <td>Alexitol Sodium                               ...</td>\n",
       "      <td></td>\n",
       "      <td>NaN</td>\n",
       "    </tr>\n",
       "    <tr>\n",
       "      <th>1</th>\n",
       "      <td>0101010B0</td>\n",
       "      <td>Almasilate                                    ...</td>\n",
       "      <td></td>\n",
       "      <td>NaN</td>\n",
       "    </tr>\n",
       "    <tr>\n",
       "      <th>2</th>\n",
       "      <td>0101010C0</td>\n",
       "      <td>Aluminium Hydroxide                           ...</td>\n",
       "      <td></td>\n",
       "      <td>NaN</td>\n",
       "    </tr>\n",
       "    <tr>\n",
       "      <th>3</th>\n",
       "      <td>0101010D0</td>\n",
       "      <td>Aluminium Hydroxide With Magnesium            ...</td>\n",
       "      <td></td>\n",
       "      <td>NaN</td>\n",
       "    </tr>\n",
       "    <tr>\n",
       "      <th>4</th>\n",
       "      <td>0101010E0</td>\n",
       "      <td>Hydrotalcite                                  ...</td>\n",
       "      <td></td>\n",
       "      <td>NaN</td>\n",
       "    </tr>\n",
       "  </tbody>\n",
       "</table>\n",
       "</div>"
      ],
      "text/plain": [
       "    CHEM SUB                                               NAME     201804    \n",
       "0  0101010A0  Alexitol Sodium                               ...            NaN\n",
       "1  0101010B0  Almasilate                                    ...            NaN\n",
       "2  0101010C0  Aluminium Hydroxide                           ...            NaN\n",
       "3  0101010D0  Aluminium Hydroxide With Magnesium            ...            NaN\n",
       "4  0101010E0  Hydrotalcite                                  ...            NaN"
      ]
     },
     "execution_count": 11,
     "metadata": {},
     "output_type": "execute_result"
    }
   ],
   "source": [
    "drug.head()"
   ]
  },
  {
   "cell_type": "markdown",
   "metadata": {},
   "source": [
    "### Descriptive summary\n",
    "In this assignment, there are four csv files analysed. `presc` dataframe contains 9748354 observations and 11 attributes. `patients` dataframe consists of 7241 records with 10 attributes. `region` dataframe is composed of 7241 rows and 16 columns. `drug` is a dataframe with a dimension of 3496x4. No missing values or NULL value exist in any of the dataframe. It is noted that, despite different names displayed in the dataframes, `presc`, `patients` and `region` all contain a column of **GP practice code** which is named `PRACTICE`, `CODE` AND `PRACTICE_CODE` respectively. The **GP practice code** is an important feature that is used to join the information together. However, this leads to issues where some **GP practice code** in `region` and `patients` are not in presence in `presc` and vice versa. This is potentially due to fact that some practices only provide incomplete information to the NHS in April 2018."
   ]
  },
  {
   "cell_type": "code",
   "execution_count": 12,
   "metadata": {},
   "outputs": [
    {
     "name": "stdout",
     "output_type": "stream",
     "text": [
      "Number of practices in 'presc' dataframe: 9578\n",
      "Number of practices in 'region' dataframe: 7241\n",
      "Number of practices in 'patients' dataframe: 7241\n",
      "Percentage of similarity between 'region' and 'patients' dataframe: 100.0\n",
      "Percentage of similarity between 'region' and 'presc' dataframe: 75.07830444769263\n"
     ]
    }
   ],
   "source": [
    "print('Number of practices in \\'presc\\' dataframe:',len(presc['PRACTICE'].unique()))\n",
    "print('Number of practices in \\'region\\' dataframe:',region['PRACTICE_CODE'].count())\n",
    "print('Number of practices in \\'patients\\' dataframe:',patients['CODE'].count())\n",
    "print('Percentage of similarity between \\'region\\' and \\'patients\\' dataframe:'\n",
    "      ,100*len(set(patients['CODE']).intersection(set(region['PRACTICE_CODE'])))/max(len(set(patients['CODE'])),len(set(region['PRACTICE_CODE']))))\n",
    "print('Percentage of similarity between \\'region\\' and \\'presc\\' dataframe:'\n",
    "      ,100*len(set(patients['CODE']).intersection(set(presc['PRACTICE'])))/max(len(set(patients['CODE'])),len(set(presc['PRACTICE']))))\n"
   ]
  },
  {
   "cell_type": "markdown",
   "metadata": {},
   "source": [
    "### Comparison between practices in London and practices in Cambridge\n",
    "As we can see from the descriptive summary above, `patients` table contains general information about the GP practice, including where each GP practice is located and the number of patients registered in each GP practice. On the other hand, `presc` table provides information about all the prescriptions made in April 2018. The two tables are associated using practice code.  \n",
    "In order to compare the practices between London and Cambridge, we will use `patients` and `region` dataframes since the practices recorded in both dataframes are consistent. As is suggested by [CCG names and codes in England](http://geoportal.statistics.gov.uk/datasets/4010cd6fc6ce42c29581c4654618e294_0), 32 CCG codes ranging from ***07L*** to ***09A*** are used to uniquely identify all GP practices located in London. All districts in London including outer London and Great London are considered as London in our context ([See here for further information](https://www.doogal.co.uk/london_postcodes.php). However, GP practices based in Cambridge cannot be uniquely identified with CCG code since it shares a [CCG code](https://openprescribing.net/ccg/06H/measures/) with Peterborough. Fortunately, Cambridge city has its own set of [postcodes](https://en.wikipedia.org/wiki/CB_postcode_area) (***CB1 CB2 CB3 CB4 CB5 CB21 CB22 CB23 CB24 CB25***).   Therefore, we can extract GP practices in London based on CCG code but use postcodes to identify GP practices in Cambridge instead. "
   ]
  },
  {
   "cell_type": "markdown",
   "metadata": {},
   "source": [
    "Here we use `region` dataframe to find out all GP practices. "
   ]
  },
  {
   "cell_type": "code",
   "execution_count": 13,
   "metadata": {},
   "outputs": [],
   "source": [
    "# Extract GP practices in London and cambridge from patients table\n",
    "london = region[(region['CCG_CODE']>='07L')&(region['CCG_CODE']<='09A')]\n",
    "cambridge = region[region['PRACTICE_POSTCODE'].str.contains('^CB[1345][\\s]|^CB[2][12345]?[\\s]')]"
   ]
  },
  {
   "cell_type": "markdown",
   "metadata": {},
   "source": [
    "After retrieving the relevant regional information for GP practices in both regions, we can use `PRACTICE_CODE` as the foreign key to filter out the information we need in `patients` dataframe and store the subset of the dataframe in local variables."
   ]
  },
  {
   "cell_type": "code",
   "execution_count": 14,
   "metadata": {},
   "outputs": [],
   "source": [
    "# extract patient information in that only belongs to GP practices in London\n",
    "pat_lon = patients[patients['CODE'].isin(london['PRACTICE_CODE'])]\n",
    "pat_cam = patients[patients['CODE'].isin(cambridge['PRACTICE_CODE'])]"
   ]
  },
  {
   "cell_type": "code",
   "execution_count": 15,
   "metadata": {},
   "outputs": [
    {
     "name": "stdout",
     "output_type": "stream",
     "text": [
      "number of practices in London is: 1323\n",
      "number of practices in Cambridge is: 34\n",
      "number of patients registered in London is: 9851208\n",
      "number of patients registered in Cambridge is: 335195\n"
     ]
    }
   ],
   "source": [
    "# number of practices in London\n",
    "print('number of practices in London is:',london['PRACTICE_CODE'].count())\n",
    "\n",
    "# number of practices in Cambridge\n",
    "print('number of practices in Cambridge is:',cambridge['PRACTICE_CODE'].count())\n",
    "\n",
    "# Number of patients in London\n",
    "print('number of patients registered in London is:',pat_lon['NUMBER_OF_PATIENTS'].sum())\n",
    "\n",
    "# Number of patients in Cambridge\n",
    "print('number of patients registered in Cambridge is:',pat_cam['NUMBER_OF_PATIENTS'].sum())"
   ]
  },
  {
   "cell_type": "markdown",
   "metadata": {},
   "source": [
    "In order to compare the number of prescriptions between two cities, we need to subset the `presc` dataframe to produce two sub-dataframes which contain prescription records for London and Cambridge, respectively. This is done through `PRACTICE` variable which is known as `CODE` in `patients` frame as suggested in the section of Descriptive summary."
   ]
  },
  {
   "cell_type": "code",
   "execution_count": 16,
   "metadata": {},
   "outputs": [],
   "source": [
    "# subset the presc table based on practice code to only keep GP practices in London or Cambridge\n",
    "presc_london = presc[presc['PRACTICE'].isin(london['PRACTICE_CODE'])]\n",
    "presc_cambridge = presc[presc['PRACTICE'].isin(cambridge['PRACTICE_CODE'])]"
   ]
  },
  {
   "cell_type": "code",
   "execution_count": 17,
   "metadata": {},
   "outputs": [
    {
     "name": "stdout",
     "output_type": "stream",
     "text": [
      "number of prescriptions in London is: 1401350\n",
      "number of prescriptions in London is: 43737\n"
     ]
    }
   ],
   "source": [
    "print('number of prescriptions in London is:',presc_london['PCT'].count())\n",
    "print('number of prescriptions in London is:',presc_cambridge['PCT'].count())"
   ]
  },
  {
   "cell_type": "code",
   "execution_count": 18,
   "metadata": {},
   "outputs": [
    {
     "name": "stdout",
     "output_type": "stream",
     "text": [
      "total actual cost of prescription in London is: 76586738.71000002\n",
      "total actual cost of prescription in Cambridge is: 2613729.8200000003\n"
     ]
    }
   ],
   "source": [
    "print('total actual cost of prescription in London is:',presc_london['ACT COST'].sum())\n",
    "print('total actual cost of prescription in Cambridge is:',presc_cambridge['ACT COST'].sum())"
   ]
  },
  {
   "cell_type": "markdown",
   "metadata": {},
   "source": [
    "### Find top/bot 10 drugs\n",
    "The dataframe used in this section are `presc` and `drug`. `presc` has a column `BNF CODE` which describes the drugs, dressings or appliances in each prescription. The detailed information of the chemical substances is stored in `NAME` column in `drug` dataframe which can be acquired using `CHEM SUB` which are references to `BNF CODE`.\n",
    "\n",
    "In the `presc` dataframe, we also have dressings and appliances included instead of only prescribed drugs. To address this issue, we can manually select prescriptions that only relate to drugs based on [BNF categories](https://openprescribing.net/bnf/). Specifically, drugs have BNF code starting with 01, dressings have BNF code starting with 20, appliances have BNF code starting with 21, 22 or 23. The first 9 digits in BNF code of drugs uniquely define a drug, thus, `BNF CODE` is sliced accordingly to group the same drugs together.\n",
    "\n",
    "To obtain top 10 most prescribed drugs in London, we simply count the number of drugs prescribed based on their BNF code and select the drugs with top 10 count values.  Similarly, we simply use the bottom 10 count values as our least prescribed drugs. The above procedure can be replicated to get top 10 and bottom 10 drugs prescribed in Cambridge.\n",
    "\n"
   ]
  },
  {
   "cell_type": "code",
   "execution_count": 19,
   "metadata": {},
   "outputs": [],
   "source": [
    "# Drugs have BNF codes with the first two digits straing from 00-19, dressings have BNF code with 20 as the starting \n",
    "# digits, appliances start from 21 to 23.\n",
    "presc_drug_l = presc_london[presc_london['BNF CODE'].str.contains('^[01]')]\n",
    "presc_drug_c = presc_cambridge[presc_cambridge['BNF CODE'].str.contains('^[01]')]\n",
    "presc_dressing_l = presc_london[presc_london['BNF CODE'].str.contains('^[2][0]')]\n",
    "presc_dressing_c = presc_cambridge[presc_cambridge['BNF CODE'].str.contains('^[2][0]')]\n",
    "presc_appliance_l = presc_london[presc_london['BNF CODE'].str.contains('^[2][123]')]\n",
    "presc_appliance_c = presc_cambridge[presc_cambridge['BNF CODE'].str.contains('^[2][123]')]"
   ]
  },
  {
   "cell_type": "code",
   "execution_count": 20,
   "metadata": {
    "scrolled": false
   },
   "outputs": [
    {
     "name": "stdout",
     "output_type": "stream",
     "text": [
      "Top 10 most frequent prescribed drugs in London are:\n",
      "Diltiazem Hydrochloride - 27555 times\n",
      "Beclometasone Dipropionate - 15738 times\n",
      "Fluticasone Propionate (Inh) - 14509 times\n",
      "Sodium Valproate - 13806 times\n",
      "Glucose Blood Testing Reagents - 13339 times\n",
      "Enteral Nutrition - 12579 times\n",
      "Colecalciferol - 9676 times\n",
      "Other Emollient Preps - 9380 times\n",
      "Betamethasone Valerate - 9309 times\n",
      "Hydrocortisone - 9184 times\n"
     ]
    }
   ],
   "source": [
    "# Count the frequency of the prescription based on BNF code and use top 10 frequent durgs in London\n",
    "top10drugcode_l = presc_drug_l['BNF CODE'].str.slice(0,9).value_counts().head(10)\n",
    "\n",
    "# Extract the name of the drug\n",
    "top10drug_l = drug[drug['CHEM SUB'].isin(top10drugcode_l.index)]['NAME'].values\n",
    "\n",
    "print('Top 10 most frequent prescribed drugs in London are:')\n",
    "for i in range(10):\n",
    "    print(top10drug_l[i].strip(),'-',top10drugcode_l[i],'times')"
   ]
  },
  {
   "cell_type": "code",
   "execution_count": 21,
   "metadata": {},
   "outputs": [
    {
     "name": "stdout",
     "output_type": "stream",
     "text": [
      "Bottom 10 less frequent prescribed drugs in London are:\n",
      "Phenol - 1 times\n",
      "Other Preparations For Biliary Disorders - 1 times\n",
      "Alirocumab - 1 times\n",
      "Aspirin & Caffeine - 1 times\n",
      "Abacavir - 1 times\n",
      "Other HIV Infection Preps - 1 times\n",
      "Teriparatide - 1 times\n",
      "Yohimbine Hydrochloride - 1 times\n",
      "Iron Carboxymaltose - 1 times\n",
      "Glucosamine Sulf (Rheumatic) - 1 times\n"
     ]
    }
   ],
   "source": [
    "# Count the frequency of the prescription based on BNF code and use bottom 10 frequenct drugs in London\n",
    "bot10drugcode_l = presc_drug_l['BNF CODE'].str.slice(0,9).value_counts().tail(10)\n",
    "\n",
    "# Extract the name of the drug\n",
    "bot10drug_l = drug[drug['CHEM SUB'].isin(bot10drugcode_l.index)]['NAME'].values\n",
    "\n",
    "print('Bottom 10 less frequent prescribed drugs in London are:')\n",
    "for i in range(10):\n",
    "    print(bot10drug_l[i].strip(),'-',bot10drugcode_l[i],'times')"
   ]
  },
  {
   "cell_type": "code",
   "execution_count": 22,
   "metadata": {},
   "outputs": [
    {
     "name": "stdout",
     "output_type": "stream",
     "text": [
      "Top 10 most frequent prescribed drugs in Cambridge are:\n",
      "Macrogol 3350 - 748 times\n",
      "Diltiazem Hydrochloride - 541 times\n",
      "Beclometasone Dipropionate - 464 times\n",
      "Fluticasone Propionate (Inh) - 403 times\n",
      "Venlafaxine - 363 times\n",
      "Glucose Blood Testing Reagents - 344 times\n",
      "Enteral Nutrition - 341 times\n",
      "Colecalciferol - 318 times\n",
      "Other Emollient Preps - 318 times\n",
      "Betamethasone Valerate - 312 times\n"
     ]
    }
   ],
   "source": [
    "# Count the frequency of the prescription based on BNF code and use top 10 frequent durgs in Cambridge\n",
    "top10drugcode_c = presc_drug_c['BNF CODE'].str.slice(0,9).value_counts().head(10)\n",
    "\n",
    "# Extract the name of the drug\n",
    "top10drug_c = drug[drug['CHEM SUB'].isin(top10drugcode_c.index)]['NAME'].values\n",
    "\n",
    "print('Top 10 most frequent prescribed drugs in Cambridge are:')\n",
    "for i in range(10):\n",
    "    print(top10drug_c[i].strip(),'-',top10drugcode_c[i],'times')"
   ]
  },
  {
   "cell_type": "code",
   "execution_count": 23,
   "metadata": {
    "scrolled": false
   },
   "outputs": [
    {
     "name": "stdout",
     "output_type": "stream",
     "text": [
      "Bottom 10 less frequent prescribed drugs in Cambridge are:\n",
      "Alverine Citrate/Simeticone - 1 times\n",
      "Lidocaine Hydrochloride - 1 times\n",
      "Acebutolol Hydrochloride - 1 times\n",
      "Sildenafil(Vasodilator Antihypertensive) - 1 times\n",
      "Valsartan/Amlodipine - 1 times\n",
      "Sodium Cromoglicate - 1 times\n",
      "Tetracosactide - 1 times\n",
      "Flutamide - 1 times\n",
      "Pilocarpine Nitrate - 1 times\n",
      "Doxepin Hydrochloride - 1 times\n"
     ]
    }
   ],
   "source": [
    "# Count the frequency of the prescription based on BNF code and use bottom 10 frequent durgs in Cambridge\n",
    "bot10drugcode_c = presc_drug_c['BNF CODE'].str.slice(0,9).value_counts().tail(10)\n",
    "\n",
    "# Extract the name of the drug\n",
    "bot10drug_c = drug[drug['CHEM SUB'].isin(bot10drugcode_c.index)]['NAME'].values\n",
    "\n",
    "print('Bottom 10 less frequent prescribed drugs in Cambridge are:')\n",
    "for i in range(10):\n",
    "    print(bot10drug_c[i].strip(),'-',bot10drugcode_c[i],'times')"
   ]
  },
  {
   "cell_type": "markdown",
   "metadata": {},
   "source": [
    "- We actually see that more than 10 drugs only prescribed once, therefore, it would be more intuitive to find all drugs that only prescribed once in each region."
   ]
  },
  {
   "cell_type": "code",
   "execution_count": 24,
   "metadata": {},
   "outputs": [
    {
     "name": "stdout",
     "output_type": "stream",
     "text": [
      "Number of drugs only prescribed once in London is: 99\n",
      "Number of drugs only prescribed once in Cambridge is: 129\n"
     ]
    }
   ],
   "source": [
    "print(\"Number of drugs only prescribed once in London is:\",(presc_drug_l['BNF CODE'].str.slice(0,9).value_counts()==1).sum())\n",
    "print(\"Number of drugs only prescribed once in Cambridge is:\",(presc_drug_c['BNF CODE'].str.slice(0,9).value_counts()==1).sum())"
   ]
  },
  {
   "cell_type": "code",
   "execution_count": 25,
   "metadata": {},
   "outputs": [
    {
     "data": {
      "text/plain": [
       "393     Diltiazem Hydrochloride                       ...\n",
       "612     Beclometasone Dipropionate                    ...\n",
       "615     Fluticasone Propionate (Inh)                  ...\n",
       "1542    Glucose Blood Testing Reagents                ...\n",
       "2198    Enteral Nutrition                             ...\n",
       "2282    Colecalciferol                                ...\n",
       "2872    Other Emollient Preps                         ...\n",
       "2915    Betamethasone Valerate                        ...\n",
       "Name: NAME, dtype: object"
      ]
     },
     "execution_count": 25,
     "metadata": {},
     "output_type": "execute_result"
    }
   ],
   "source": [
    "# Find the common top10 prescribed drugs\n",
    "drug[drug['CHEM SUB'].isin(set(top10drugcode_l.index).intersection(top10drugcode_c.index))]['NAME']"
   ]
  },
  {
   "cell_type": "markdown",
   "metadata": {},
   "source": [
    "It appears that there are 8 drugs mostly prescribed in both city:\n",
    "- Diltiazem Hydrochloride\n",
    "- Beclometasone Dipropionate\n",
    "- Fluticasone Propionate (Inh)\n",
    "- Glucose Blood Testing Reagents\n",
    "- Enteral Nutrition\n",
    "- Colecalciferol\n",
    "- Other Emollient Preps\n",
    "- Betamethasone Valerate\n",
    "\n",
    "Meanwhile, many drugs are only prescribed once in both regions. Those drugs are likely to be associated with rare diseases. Specifically, the number of drugs that only prescribed once in each region is:\n",
    "- London: 99\n",
    "- Cambridge: 129\n",
    "\n"
   ]
  },
  {
   "cell_type": "markdown",
   "metadata": {},
   "source": [
    "### Conclusion\n",
    "London, due to its capacity of GP practices (about 40 times larger), had a larger number of prescriptions than Cambridge (about 32 times more). The total cost spent on prescriptions is thus about 29 times larger in London than in Cambridge. The number of patients registered in London is about 30 times more than that in Cambridge, which indicates that the prescription cost per patient is about the same in two regions.  Despite a larger number of prescriptions and GP practices in London, eight drugs are most popular in both regions which indicates those drugs are like to be related to diseases with high prevalence.\n"
   ]
  },
  {
   "cell_type": "markdown",
   "metadata": {},
   "source": [
    "### Prescriptions costs for cardiovascular disease and antidepressants\n",
    "According to [BNF Codebook](https://openprescribing.net/bnf/), the drugs prescribed for cardiovascular disease has a BNF code started with **02** and the drugs prescribed for antidepressants has a BNF code started with **0403**. By utilising this information, we can easily subset the `presc` to get all drugs for each disease as well as associated costs. The total cost can be summed up subsequently."
   ]
  },
  {
   "cell_type": "code",
   "execution_count": 26,
   "metadata": {},
   "outputs": [
    {
     "name": "stdout",
     "output_type": "stream",
     "text": [
      "Total number of prescriptions for cardiovascular disease is: 1330453\n",
      "Total cost for cardiovascular disease is: 90193834.01999994\n",
      "Total number of prescriptions for antidepressants is: 312757\n",
      "Total cost for antidepressants is: 16853470.86\n"
     ]
    }
   ],
   "source": [
    "# Find all drugs for cardiovascular disease using regex expression ^02, indicating any BNF codes starting with 02.\n",
    "print('Total number of prescriptions for cardiovascular disease is:',presc[presc['BNF CODE'].str.contains('^02')]['ACT COST'].count())\n",
    "print('Total cost for cardiovascular disease is:',presc[presc['BNF CODE'].str.contains('^02')]['ACT COST'].sum())\n",
    "\n",
    "# Find all drugs for cardiovascular disease using regex expression ^0403, indicating any BNF codes starting with 0403.\n",
    "print('Total number of prescriptions for antidepressants is:',presc[presc['BNF CODE'].str.contains('^0403')]['ACT COST'].count())\n",
    "print('Total cost for antidepressants is:',presc[presc['BNF CODE'].str.contains('^0403')]['ACT COST'].sum())\n"
   ]
  },
  {
   "cell_type": "markdown",
   "metadata": {},
   "source": [
    "We can see that the number of prescriptions for cardiovascular disease is significantly larger than for antidepressants. Consequently, the cost is also significantly higher for cardiovascular disease."
   ]
  },
  {
   "cell_type": "markdown",
   "metadata": {},
   "source": [
    "### Monthly total spending versus the total number of registered patients\n",
    "By creating a scatter plot of the monthly total spending against the total number of registered patients, we can create a linear fitted trend line, which can be used to predict the total spending given any input of the total number of registered patients. It is a valuable prediction model to manage the spending for the coming month in the future.  \n",
    "\n",
    "Additionally, we will see how potential outlier can influence the prediction model by training the regression model with potential outliers removed. In common practice, the outliers tend to be more than 3 times standard deviation away from the sample mean. We will use this rule to define potential outliers."
   ]
  },
  {
   "cell_type": "code",
   "execution_count": 27,
   "metadata": {},
   "outputs": [],
   "source": [
    "# Calculate total cost for each GP practice\n",
    "total_cost = presc.groupby('PRACTICE').sum()[['ACT COST']]\n",
    "\n",
    "# Merge the total cost and number of patients into one table using practice code as the foreign key.\n",
    "merged = pd.merge(total_cost,patients[['CODE','NUMBER_OF_PATIENTS']],left_on = 'PRACTICE',right_on='CODE')\n",
    "\n",
    "merged.set_index('CODE',inplace = True)"
   ]
  },
  {
   "cell_type": "code",
   "execution_count": 28,
   "metadata": {
    "scrolled": false
   },
   "outputs": [
    {
     "data": {
      "text/plain": [
       "(0, 264157.0)"
      ]
     },
     "execution_count": 28,
     "metadata": {},
     "output_type": "execute_result"
    },
    {
     "data": {
      "image/png": "[encoded data removed]",
      "text/plain": [
       "<Figure size 1152x432 with 2 Axes>"
      ]
     },
     "metadata": {
      "needs_background": "light"
     },
     "output_type": "display_data"
    }
   ],
   "source": [
    "# display the figure in cell\n",
    "%matplotlib inline\n",
    "\n",
    "# specify the figure size\n",
    "fig=plt.figure(figsize=(16, 6))\n",
    "# just draw one figure (dimension 1x1)\n",
    "ax=fig.add_subplot(121)\n",
    "# x (number of patients for each GP practice) is the independent variable, y (total cost of prescription for each GP\n",
    "# practice) is the dependent variable\n",
    "x = merged['NUMBER_OF_PATIENTS']\n",
    "y = merged['ACT COST']\n",
    "\n",
    "\n",
    "\n",
    "# draw scatter plot using blue dots\n",
    "ax.scatter(x, y, color='b',marker='.')\n",
    "\n",
    "# calculate the coefficient for the fitted line using polynomial fitting with degree of 1 (linear relationship)\n",
    "slope, intercept, r_value, p_value, std_err = linregress(x,y)\n",
    "\n",
    "# draw the fitted line using red color to distinguish and display the fitted equation\n",
    "equation = 'y = %.3fx+%.3f'%(slope,intercept)\n",
    "ax.text(3000,700000,equation,fontsize=10)\n",
    "ax.plot(x, slope * x + intercept, color='r')\n",
    "\n",
    "# set the title, label, margin of the figure\n",
    "ax.set_title('Scatter plot: monthly total spending / registered patients')\n",
    "ax.set_xlabel(\"total number of registered patients\",fontsize=12)\n",
    "ax.set_ylabel(\"monthly total spending per GP practice\",fontsize=12)\n",
    "max_x = np.floor(x.max())\n",
    "max_y = np.floor(y.max())\n",
    "ax.set_xlim(0, max_x)\n",
    "ax.set_ylim(0, max_y)\n",
    "\n",
    "\n",
    "\n",
    "## Now we repeat the process for the dataset where potential outliers are removed\n",
    "## if a datapoint has either x or y with a z-score larger than 3 (i.e. 3 standard deviation away from the mean),it\n",
    "## implies this datapoint may be an outlier\n",
    "x_ = x[(np.abs(scipy.stats.zscore(x.values)) < 3)&(np.abs(scipy.stats.zscore(y.values)) < 3)]\n",
    "y_ = y[(np.abs(scipy.stats.zscore(x.values)) < 3)&(np.abs(scipy.stats.zscore(y.values)) < 3)]\n",
    "ax=fig.add_subplot(122)\n",
    "# draw scatter plot using blue dots\n",
    "ax.scatter(x_, y_, color='b',marker='.')\n",
    "\n",
    "# calculate the coefficient for the fitted line using polynomial fitting with degree of 1 (linear relationship)\n",
    "slope_, intercept_, r_value_, p_value_, std_err_ = linregress(x_,y_)\n",
    "\n",
    "# draw the fitted line using red color to distinguish and display the fitted equation\n",
    "equation = 'y = %.3fx+%.3f'%(slope_,intercept_)\n",
    "ax.text(4000,230000,equation,fontsize=10)\n",
    "ax.plot(x_, slope_ * x_ + intercept_, color='r')\n",
    "\n",
    "# set the title, label, margin of the figure\n",
    "ax.set_title('Scatter plot after removing outliers: monthly total spending / registered patients')\n",
    "ax.set_xlabel(\"total number of registered patients\",fontsize=12)\n",
    "ax.set_ylabel(\"monthly total spending per GP practice\",fontsize=12)\n",
    "max_x = np.floor(x_.max())\n",
    "max_y = np.floor(y_.max())\n",
    "ax.set_xlim(0, max_x)\n",
    "ax.set_ylim(0, max_y)"
   ]
  },
  {
   "cell_type": "code",
   "execution_count": 29,
   "metadata": {},
   "outputs": [
    {
     "name": "stdout",
     "output_type": "stream",
     "text": [
      "p-value for slope: 0.0\n",
      "The percentage of variance explained is: 0.7684899354368006\n",
      "excluding potential outliers: p-value for slope: 0.0\n",
      "excluding potential outliers: The percentage of variance explained is: 0.7467022681893226\n"
     ]
    }
   ],
   "source": [
    "# varify the linear equation model\n",
    "print('p-value for slope:',p_value)\n",
    "print('The percentage of variance explained is:',r_value**2)\n",
    "\n",
    "# varify the linear equation model\n",
    "print('excluding potential outliers: p-value for slope:',p_value_)\n",
    "print('excluding potential outliers: The percentage of variance explained is:',r_value_**2)"
   ]
  },
  {
   "cell_type": "markdown",
   "metadata": {},
   "source": [
    "The p-value is very small for slope coefficient, which indicates there is a positive linear relationship between the total number of registered patients and monthly total spending per GP practice. Furthermore, the linear regression model has an R<sup>2</sup> of 0.79 indicating about 79% variance of monthly total spending per GP practice is explained by the total number of registered patients in that GP practice. Based on the regression model, we can conclude that each increased number of registered patient will result in 10.043 pounds increase in monthly total spending for drugs. \n",
    "\n",
    "After removing potential outliers, we can see that the R<sup>2</sup> is actually decreased. Therefore, those data points actually contribute to the prediction and should be included."
   ]
  },
  {
   "cell_type": "code",
   "execution_count": 30,
   "metadata": {},
   "outputs": [
    {
     "data": {
      "text/plain": [
       "[<matplotlib.lines.Line2D at 0x1a2a296588>]"
      ]
     },
     "execution_count": 30,
     "metadata": {},
     "output_type": "execute_result"
    },
    {
     "data": {
      "image/png": "[encoded data removed]",
      "text/plain": [
       "<Figure size 432x288 with 1 Axes>"
      ]
     },
     "metadata": {
      "needs_background": "light"
     },
     "output_type": "display_data"
    }
   ],
   "source": [
    "# Calculate the cost per patient for each GP practice\n",
    "cost_patient = merged\n",
    "cost_patient['cost_per_patient'] = cost_patient['ACT COST'] / cost_patient['NUMBER_OF_PATIENTS'] \n",
    "\n",
    "x = cost_patient['cost_per_patient'].values\n",
    "\n",
    "# Remove extreme values that are most likely to be outliers\n",
    "min_x = np.floor(cost_patient['cost_per_patient'].quantile(.01))\n",
    "max_x = np.floor(cost_patient['cost_per_patient'].quantile(.99))\n",
    "x = [i for i in x if (i<max_x)&(i>min_x)]\n",
    "\n",
    "# Plot the histogram with 50 bins\n",
    "plt.hist(x, bins=20,density=True,alpha=0.8)\n",
    "\n",
    "# label the axis\n",
    "plt.xlabel(\"Monthly prescription spending per patient\")\n",
    "plt.ylabel(\"Frequency\")\n",
    "\n",
    "# add title to the plot\n",
    "plt.title(\"GP practice monthly total prescription spending per registered patient\")\n",
    "\n",
    "# fit a Gaussian curve and generate mean and standard deviation\n",
    "mu, std = norm.fit(x)\n",
    "# create 100 equally-spaced points within the range of the figure\n",
    "x_h = np.linspace(min_x, max_x, 100)\n",
    "# drow probability density function with the mean and standard deviation\n",
    "p = norm.pdf(x_h, mu, std)\n",
    "# superposition the Gaussian distribution for the cost per patients\n",
    "plt.plot(x_h, p, 'k', linewidth=2)\n",
    "\n"
   ]
  },
  {
   "cell_type": "markdown",
   "metadata": {},
   "source": [
    "As we can see from the figure, after removing extreme data points, *GP practice monthly total prescription spending per registered patient* exhibits a distribution that is close to Gaussian (normal) distribution except having a negative skewness. "
   ]
  },
  {
   "cell_type": "markdown",
   "metadata": {},
   "source": [
    "### Conclusion\n",
    "There is a clear positive relationship between the total number of registered patients and monthly total spending on drugs for GP practices. The spending per patient for all GP practices exhibits a proximate normal distribution. Most GP spent about 8 to 13 pounds per patient in April. This is consistant to what we get using regression model which suggests that every one more registration of the patient will lead to 10.043 pounds increase of the budget."
   ]
  },
  {
   "cell_type": "markdown",
   "metadata": {},
   "source": [
    "# Assignment B\n",
    "### Introduction\n",
    "In this assignment, we will be using [WHO Mortality (ICD-10 version) and Population datasets](https://www.who.int/healthinfo/statistics/mortality_rawdata/en/) to study the deaths and prevalence of Neoplasm in different countries of interest. "
   ]
  },
  {
   "cell_type": "markdown",
   "metadata": {},
   "source": [
    "Firstly, there are four datasets used in this study:\n",
    "1. Population and live births -- a file that includes the population distribution by age group for every country\n",
    "2. Country codes -- a lookup file for country name based on country code\n",
    "3. Mortality, ICD-10 (part 1/2) -- Mortality (coded in ICD10) distribution by age group for 1st part of the countries  \n",
    "4. Mortality, ICD-10 (part 2/2) -- Mortality (coded in ICD10) distribution by age group for 2nd part of the countries\n",
    "\n",
    "All files are loaded as pandas dataframes which are then stored as `pop`, `country`, `mortality1` and `mortality2` respectively. Since `mortality1` and `mortality2` both have the same features, we can concatenate them into one dataframe, `mortality`, for convenience."
   ]
  },
  {
   "cell_type": "code",
   "execution_count": 31,
   "metadata": {
    "scrolled": false
   },
   "outputs": [
    {
     "name": "stderr",
     "output_type": "stream",
     "text": [
      "/Users/fair/anaconda3/lib/python3.7/site-packages/IPython/core/interactiveshell.py:2785: DtypeWarning: Columns (4) have mixed types. Specify dtype option on import or set low_memory=False.\n",
      "  interactivity=interactivity, compiler=compiler, result=result)\n",
      "/Users/fair/anaconda3/lib/python3.7/site-packages/IPython/core/interactiveshell.py:2785: DtypeWarning: Columns (2,4) have mixed types. Specify dtype option on import or set low_memory=False.\n",
      "  interactivity=interactivity, compiler=compiler, result=result)\n"
     ]
    }
   ],
   "source": [
    "# Read all csv files and concatenate mortality1 and mortality2\n",
    "mortality1 = pd.read_csv('Morticd10_part1.csv').rename(columns=lambda x: x.strip())\n",
    "mortality2 = pd.read_csv('Morticd10_part2.csv').rename(columns=lambda x: x.strip())\n",
    "mortality = pd.concat([mortality1,mortality2])\n",
    "pop = pd.read_csv('pop.csv').rename(columns=lambda x: x.strip())\n",
    "country = pd.read_excel('list_ctrry_years_11apri2018_rev.xlsx',sheet_name=0,skiprows=6,header=1)\\\n",
    ".rename(columns=lambda x: x.strip())"
   ]
  },
  {
   "cell_type": "code",
   "execution_count": 32,
   "metadata": {},
   "outputs": [
    {
     "name": "stdout",
     "output_type": "stream",
     "text": [
      "<class 'pandas.core.frame.DataFrame'>\n",
      "Int64Index: 3587860 entries, 0 to 2199753\n",
      "Data columns (total 39 columns):\n",
      "Country       int64\n",
      "Admin1        float64\n",
      "SubDiv        object\n",
      "Year          int64\n",
      "List          object\n",
      "Cause         object\n",
      "Sex           int64\n",
      "Frmat         int64\n",
      "IM_Frmat      int64\n",
      "Deaths1       int64\n",
      "Deaths2       float64\n",
      "Deaths3       float64\n",
      "Deaths4       float64\n",
      "Deaths5       float64\n",
      "Deaths6       float64\n",
      "Deaths7       float64\n",
      "Deaths8       float64\n",
      "Deaths9       float64\n",
      "Deaths10      float64\n",
      "Deaths11      float64\n",
      "Deaths12      float64\n",
      "Deaths13      float64\n",
      "Deaths14      float64\n",
      "Deaths15      float64\n",
      "Deaths16      float64\n",
      "Deaths17      float64\n",
      "Deaths18      float64\n",
      "Deaths19      float64\n",
      "Deaths20      float64\n",
      "Deaths21      float64\n",
      "Deaths22      float64\n",
      "Deaths23      float64\n",
      "Deaths24      float64\n",
      "Deaths25      float64\n",
      "Deaths26      float64\n",
      "IM_Deaths1    float64\n",
      "IM_Deaths2    float64\n",
      "IM_Deaths3    float64\n",
      "IM_Deaths4    float64\n",
      "dtypes: float64(30), int64(6), object(3)\n",
      "memory usage: 1.1+ GB\n"
     ]
    }
   ],
   "source": [
    "#Inspect mortality df\n",
    "mortality.info()"
   ]
  },
  {
   "cell_type": "code",
   "execution_count": 33,
   "metadata": {},
   "outputs": [
    {
     "data": {
      "text/html": [
       "<div>\n",
       "<style scoped>\n",
       "    .dataframe tbody tr th:only-of-type {\n",
       "        vertical-align: middle;\n",
       "    }\n",
       "\n",
       "    .dataframe tbody tr th {\n",
       "        vertical-align: top;\n",
       "    }\n",
       "\n",
       "    .dataframe thead th {\n",
       "        text-align: right;\n",
       "    }\n",
       "</style>\n",
       "<table border=\"1\" class=\"dataframe\">\n",
       "  <thead>\n",
       "    <tr style=\"text-align: right;\">\n",
       "      <th></th>\n",
       "      <th>Country</th>\n",
       "      <th>Admin1</th>\n",
       "      <th>SubDiv</th>\n",
       "      <th>Year</th>\n",
       "      <th>List</th>\n",
       "      <th>Cause</th>\n",
       "      <th>Sex</th>\n",
       "      <th>Frmat</th>\n",
       "      <th>IM_Frmat</th>\n",
       "      <th>Deaths1</th>\n",
       "      <th>...</th>\n",
       "      <th>Deaths21</th>\n",
       "      <th>Deaths22</th>\n",
       "      <th>Deaths23</th>\n",
       "      <th>Deaths24</th>\n",
       "      <th>Deaths25</th>\n",
       "      <th>Deaths26</th>\n",
       "      <th>IM_Deaths1</th>\n",
       "      <th>IM_Deaths2</th>\n",
       "      <th>IM_Deaths3</th>\n",
       "      <th>IM_Deaths4</th>\n",
       "    </tr>\n",
       "  </thead>\n",
       "  <tbody>\n",
       "    <tr>\n",
       "      <th>0</th>\n",
       "      <td>1400</td>\n",
       "      <td>NaN</td>\n",
       "      <td>NaN</td>\n",
       "      <td>2001</td>\n",
       "      <td>101</td>\n",
       "      <td>1000</td>\n",
       "      <td>1</td>\n",
       "      <td>7</td>\n",
       "      <td>8</td>\n",
       "      <td>332</td>\n",
       "      <td>...</td>\n",
       "      <td>95.0</td>\n",
       "      <td>NaN</td>\n",
       "      <td>NaN</td>\n",
       "      <td>NaN</td>\n",
       "      <td>NaN</td>\n",
       "      <td>0.0</td>\n",
       "      <td>8.0</td>\n",
       "      <td>NaN</td>\n",
       "      <td>NaN</td>\n",
       "      <td>NaN</td>\n",
       "    </tr>\n",
       "    <tr>\n",
       "      <th>1</th>\n",
       "      <td>1400</td>\n",
       "      <td>NaN</td>\n",
       "      <td>NaN</td>\n",
       "      <td>2001</td>\n",
       "      <td>101</td>\n",
       "      <td>1000</td>\n",
       "      <td>2</td>\n",
       "      <td>7</td>\n",
       "      <td>8</td>\n",
       "      <td>222</td>\n",
       "      <td>...</td>\n",
       "      <td>112.0</td>\n",
       "      <td>NaN</td>\n",
       "      <td>NaN</td>\n",
       "      <td>NaN</td>\n",
       "      <td>NaN</td>\n",
       "      <td>0.0</td>\n",
       "      <td>11.0</td>\n",
       "      <td>NaN</td>\n",
       "      <td>NaN</td>\n",
       "      <td>NaN</td>\n",
       "    </tr>\n",
       "    <tr>\n",
       "      <th>2</th>\n",
       "      <td>1400</td>\n",
       "      <td>NaN</td>\n",
       "      <td>NaN</td>\n",
       "      <td>2001</td>\n",
       "      <td>101</td>\n",
       "      <td>1001</td>\n",
       "      <td>1</td>\n",
       "      <td>7</td>\n",
       "      <td>8</td>\n",
       "      <td>24</td>\n",
       "      <td>...</td>\n",
       "      <td>5.0</td>\n",
       "      <td>NaN</td>\n",
       "      <td>NaN</td>\n",
       "      <td>NaN</td>\n",
       "      <td>NaN</td>\n",
       "      <td>0.0</td>\n",
       "      <td>0.0</td>\n",
       "      <td>NaN</td>\n",
       "      <td>NaN</td>\n",
       "      <td>NaN</td>\n",
       "    </tr>\n",
       "    <tr>\n",
       "      <th>3</th>\n",
       "      <td>1400</td>\n",
       "      <td>NaN</td>\n",
       "      <td>NaN</td>\n",
       "      <td>2001</td>\n",
       "      <td>101</td>\n",
       "      <td>1001</td>\n",
       "      <td>2</td>\n",
       "      <td>7</td>\n",
       "      <td>8</td>\n",
       "      <td>14</td>\n",
       "      <td>...</td>\n",
       "      <td>6.0</td>\n",
       "      <td>NaN</td>\n",
       "      <td>NaN</td>\n",
       "      <td>NaN</td>\n",
       "      <td>NaN</td>\n",
       "      <td>0.0</td>\n",
       "      <td>0.0</td>\n",
       "      <td>NaN</td>\n",
       "      <td>NaN</td>\n",
       "      <td>NaN</td>\n",
       "    </tr>\n",
       "    <tr>\n",
       "      <th>4</th>\n",
       "      <td>1400</td>\n",
       "      <td>NaN</td>\n",
       "      <td>NaN</td>\n",
       "      <td>2001</td>\n",
       "      <td>101</td>\n",
       "      <td>1002</td>\n",
       "      <td>1</td>\n",
       "      <td>7</td>\n",
       "      <td>8</td>\n",
       "      <td>0</td>\n",
       "      <td>...</td>\n",
       "      <td>0.0</td>\n",
       "      <td>NaN</td>\n",
       "      <td>NaN</td>\n",
       "      <td>NaN</td>\n",
       "      <td>NaN</td>\n",
       "      <td>0.0</td>\n",
       "      <td>0.0</td>\n",
       "      <td>NaN</td>\n",
       "      <td>NaN</td>\n",
       "      <td>NaN</td>\n",
       "    </tr>\n",
       "  </tbody>\n",
       "</table>\n",
       "<p>5 rows × 39 columns</p>\n",
       "</div>"
      ],
      "text/plain": [
       "   Country  Admin1 SubDiv  Year List Cause  Sex  Frmat  IM_Frmat  Deaths1  \\\n",
       "0     1400     NaN    NaN  2001  101  1000    1      7         8      332   \n",
       "1     1400     NaN    NaN  2001  101  1000    2      7         8      222   \n",
       "2     1400     NaN    NaN  2001  101  1001    1      7         8       24   \n",
       "3     1400     NaN    NaN  2001  101  1001    2      7         8       14   \n",
       "4     1400     NaN    NaN  2001  101  1002    1      7         8        0   \n",
       "\n",
       "      ...      Deaths21  Deaths22  Deaths23  Deaths24  Deaths25  Deaths26  \\\n",
       "0     ...          95.0       NaN       NaN       NaN       NaN       0.0   \n",
       "1     ...         112.0       NaN       NaN       NaN       NaN       0.0   \n",
       "2     ...           5.0       NaN       NaN       NaN       NaN       0.0   \n",
       "3     ...           6.0       NaN       NaN       NaN       NaN       0.0   \n",
       "4     ...           0.0       NaN       NaN       NaN       NaN       0.0   \n",
       "\n",
       "   IM_Deaths1  IM_Deaths2  IM_Deaths3  IM_Deaths4  \n",
       "0         8.0         NaN         NaN         NaN  \n",
       "1        11.0         NaN         NaN         NaN  \n",
       "2         0.0         NaN         NaN         NaN  \n",
       "3         0.0         NaN         NaN         NaN  \n",
       "4         0.0         NaN         NaN         NaN  \n",
       "\n",
       "[5 rows x 39 columns]"
      ]
     },
     "execution_count": 33,
     "metadata": {},
     "output_type": "execute_result"
    }
   ],
   "source": [
    "mortality.head()"
   ]
  },
  {
   "cell_type": "code",
   "execution_count": 34,
   "metadata": {},
   "outputs": [
    {
     "name": "stdout",
     "output_type": "stream",
     "text": [
      "<class 'pandas.core.frame.DataFrame'>\n",
      "RangeIndex: 5630 entries, 0 to 5629\n",
      "Data columns (total 8 columns):\n",
      "Country    5630 non-null int64\n",
      "name       5630 non-null object\n",
      "Admin1     80 non-null float64\n",
      "SubDiv     133 non-null object\n",
      "Year       5630 non-null int64\n",
      "List       5630 non-null object\n",
      "Icd        5630 non-null object\n",
      "Updates    29 non-null object\n",
      "dtypes: float64(1), int64(2), object(5)\n",
      "memory usage: 352.0+ KB\n"
     ]
    }
   ],
   "source": [
    "# Inspect country df\n",
    "country.info()"
   ]
  },
  {
   "cell_type": "code",
   "execution_count": 35,
   "metadata": {},
   "outputs": [
    {
     "data": {
      "text/html": [
       "<div>\n",
       "<style scoped>\n",
       "    .dataframe tbody tr th:only-of-type {\n",
       "        vertical-align: middle;\n",
       "    }\n",
       "\n",
       "    .dataframe tbody tr th {\n",
       "        vertical-align: top;\n",
       "    }\n",
       "\n",
       "    .dataframe thead th {\n",
       "        text-align: right;\n",
       "    }\n",
       "</style>\n",
       "<table border=\"1\" class=\"dataframe\">\n",
       "  <thead>\n",
       "    <tr style=\"text-align: right;\">\n",
       "      <th></th>\n",
       "      <th>Country</th>\n",
       "      <th>name</th>\n",
       "      <th>Admin1</th>\n",
       "      <th>SubDiv</th>\n",
       "      <th>Year</th>\n",
       "      <th>List</th>\n",
       "      <th>Icd</th>\n",
       "      <th>Updates</th>\n",
       "    </tr>\n",
       "  </thead>\n",
       "  <tbody>\n",
       "    <tr>\n",
       "      <th>0</th>\n",
       "      <td>1060</td>\n",
       "      <td>Cabo Verde</td>\n",
       "      <td>NaN</td>\n",
       "      <td>NaN</td>\n",
       "      <td>1980</td>\n",
       "      <td>08A</td>\n",
       "      <td>Icd8</td>\n",
       "      <td>NaN</td>\n",
       "    </tr>\n",
       "    <tr>\n",
       "      <th>1</th>\n",
       "      <td>1060</td>\n",
       "      <td>Cabo Verde</td>\n",
       "      <td>NaN</td>\n",
       "      <td>NaN</td>\n",
       "      <td>2011</td>\n",
       "      <td>103</td>\n",
       "      <td>Icd10</td>\n",
       "      <td>NaN</td>\n",
       "    </tr>\n",
       "    <tr>\n",
       "      <th>2</th>\n",
       "      <td>1060</td>\n",
       "      <td>Cabo Verde</td>\n",
       "      <td>NaN</td>\n",
       "      <td>NaN</td>\n",
       "      <td>2012</td>\n",
       "      <td>103</td>\n",
       "      <td>Icd10</td>\n",
       "      <td>NaN</td>\n",
       "    </tr>\n",
       "    <tr>\n",
       "      <th>3</th>\n",
       "      <td>1125</td>\n",
       "      <td>Egypt</td>\n",
       "      <td>NaN</td>\n",
       "      <td>NaN</td>\n",
       "      <td>1954</td>\n",
       "      <td>07B</td>\n",
       "      <td>Icd7</td>\n",
       "      <td>NaN</td>\n",
       "    </tr>\n",
       "    <tr>\n",
       "      <th>4</th>\n",
       "      <td>1125</td>\n",
       "      <td>Egypt</td>\n",
       "      <td>NaN</td>\n",
       "      <td>NaN</td>\n",
       "      <td>1955</td>\n",
       "      <td>07A</td>\n",
       "      <td>Icd7</td>\n",
       "      <td>NaN</td>\n",
       "    </tr>\n",
       "  </tbody>\n",
       "</table>\n",
       "</div>"
      ],
      "text/plain": [
       "   Country        name  Admin1 SubDiv  Year List    Icd Updates\n",
       "0     1060  Cabo Verde     NaN    NaN  1980  08A   Icd8     NaN\n",
       "1     1060  Cabo Verde     NaN    NaN  2011  103  Icd10     NaN\n",
       "2     1060  Cabo Verde     NaN    NaN  2012  103  Icd10     NaN\n",
       "3     1125       Egypt     NaN    NaN  1954  07B   Icd7     NaN\n",
       "4     1125       Egypt     NaN    NaN  1955  07A   Icd7     NaN"
      ]
     },
     "execution_count": 35,
     "metadata": {},
     "output_type": "execute_result"
    }
   ],
   "source": [
    "country.head()"
   ]
  },
  {
   "cell_type": "code",
   "execution_count": 36,
   "metadata": {},
   "outputs": [
    {
     "name": "stdout",
     "output_type": "stream",
     "text": [
      "<class 'pandas.core.frame.DataFrame'>\n",
      "RangeIndex: 9349 entries, 0 to 9348\n",
      "Data columns (total 33 columns):\n",
      "Country    9349 non-null int64\n",
      "Admin1     82 non-null float64\n",
      "SubDiv     138 non-null object\n",
      "Year       9349 non-null int64\n",
      "Sex        9349 non-null int64\n",
      "Frmat      9349 non-null int64\n",
      "Pop1       9349 non-null float64\n",
      "Pop2       9213 non-null float64\n",
      "Pop3       9213 non-null float64\n",
      "Pop4       5152 non-null float64\n",
      "Pop5       5152 non-null float64\n",
      "Pop6       5152 non-null float64\n",
      "Pop7       9213 non-null float64\n",
      "Pop8       9195 non-null float64\n",
      "Pop9       9213 non-null float64\n",
      "Pop10      9195 non-null float64\n",
      "Pop11      9213 non-null float64\n",
      "Pop12      9195 non-null float64\n",
      "Pop13      9213 non-null float64\n",
      "Pop14      9195 non-null float64\n",
      "Pop15      9213 non-null float64\n",
      "Pop16      9195 non-null float64\n",
      "Pop17      9213 non-null float64\n",
      "Pop18      9195 non-null float64\n",
      "Pop19      9213 non-null float64\n",
      "Pop20      9151 non-null float64\n",
      "Pop21      9057 non-null float64\n",
      "Pop22      8197 non-null float64\n",
      "Pop23      8197 non-null float64\n",
      "Pop24      1148 non-null float64\n",
      "Pop25      1148 non-null float64\n",
      "Pop26      9195 non-null float64\n",
      "Lb         9125 non-null float64\n",
      "dtypes: float64(28), int64(4), object(1)\n",
      "memory usage: 2.4+ MB\n"
     ]
    }
   ],
   "source": [
    "pop.info()"
   ]
  },
  {
   "cell_type": "code",
   "execution_count": 37,
   "metadata": {},
   "outputs": [
    {
     "data": {
      "text/html": [
       "<div>\n",
       "<style scoped>\n",
       "    .dataframe tbody tr th:only-of-type {\n",
       "        vertical-align: middle;\n",
       "    }\n",
       "\n",
       "    .dataframe tbody tr th {\n",
       "        vertical-align: top;\n",
       "    }\n",
       "\n",
       "    .dataframe thead th {\n",
       "        text-align: right;\n",
       "    }\n",
       "</style>\n",
       "<table border=\"1\" class=\"dataframe\">\n",
       "  <thead>\n",
       "    <tr style=\"text-align: right;\">\n",
       "      <th></th>\n",
       "      <th>Country</th>\n",
       "      <th>Admin1</th>\n",
       "      <th>SubDiv</th>\n",
       "      <th>Year</th>\n",
       "      <th>Sex</th>\n",
       "      <th>Frmat</th>\n",
       "      <th>Pop1</th>\n",
       "      <th>Pop2</th>\n",
       "      <th>Pop3</th>\n",
       "      <th>Pop4</th>\n",
       "      <th>...</th>\n",
       "      <th>Pop18</th>\n",
       "      <th>Pop19</th>\n",
       "      <th>Pop20</th>\n",
       "      <th>Pop21</th>\n",
       "      <th>Pop22</th>\n",
       "      <th>Pop23</th>\n",
       "      <th>Pop24</th>\n",
       "      <th>Pop25</th>\n",
       "      <th>Pop26</th>\n",
       "      <th>Lb</th>\n",
       "    </tr>\n",
       "  </thead>\n",
       "  <tbody>\n",
       "    <tr>\n",
       "      <th>0</th>\n",
       "      <td>1060</td>\n",
       "      <td>NaN</td>\n",
       "      <td>NaN</td>\n",
       "      <td>1980</td>\n",
       "      <td>1</td>\n",
       "      <td>7</td>\n",
       "      <td>137100.0</td>\n",
       "      <td>3400.0</td>\n",
       "      <td>15800.0</td>\n",
       "      <td>NaN</td>\n",
       "      <td>...</td>\n",
       "      <td>NaN</td>\n",
       "      <td>5300.0</td>\n",
       "      <td>NaN</td>\n",
       "      <td>2900.0</td>\n",
       "      <td>NaN</td>\n",
       "      <td>NaN</td>\n",
       "      <td>NaN</td>\n",
       "      <td>NaN</td>\n",
       "      <td>6500.0</td>\n",
       "      <td>5000.0</td>\n",
       "    </tr>\n",
       "    <tr>\n",
       "      <th>1</th>\n",
       "      <td>1060</td>\n",
       "      <td>NaN</td>\n",
       "      <td>NaN</td>\n",
       "      <td>1980</td>\n",
       "      <td>2</td>\n",
       "      <td>7</td>\n",
       "      <td>159000.0</td>\n",
       "      <td>4000.0</td>\n",
       "      <td>18400.0</td>\n",
       "      <td>NaN</td>\n",
       "      <td>...</td>\n",
       "      <td>NaN</td>\n",
       "      <td>6200.0</td>\n",
       "      <td>NaN</td>\n",
       "      <td>3400.0</td>\n",
       "      <td>NaN</td>\n",
       "      <td>NaN</td>\n",
       "      <td>NaN</td>\n",
       "      <td>NaN</td>\n",
       "      <td>7500.0</td>\n",
       "      <td>6000.0</td>\n",
       "    </tr>\n",
       "    <tr>\n",
       "      <th>2</th>\n",
       "      <td>1125</td>\n",
       "      <td>NaN</td>\n",
       "      <td>NaN</td>\n",
       "      <td>1955</td>\n",
       "      <td>1</td>\n",
       "      <td>2</td>\n",
       "      <td>5051500.0</td>\n",
       "      <td>150300.0</td>\n",
       "      <td>543400.0</td>\n",
       "      <td>NaN</td>\n",
       "      <td>...</td>\n",
       "      <td>110200.0</td>\n",
       "      <td>51100.0</td>\n",
       "      <td>41600.0</td>\n",
       "      <td>14300.0</td>\n",
       "      <td>11800.0</td>\n",
       "      <td>25300.0</td>\n",
       "      <td>NaN</td>\n",
       "      <td>NaN</td>\n",
       "      <td>0.0</td>\n",
       "      <td>253329.0</td>\n",
       "    </tr>\n",
       "    <tr>\n",
       "      <th>3</th>\n",
       "      <td>1125</td>\n",
       "      <td>NaN</td>\n",
       "      <td>NaN</td>\n",
       "      <td>1955</td>\n",
       "      <td>2</td>\n",
       "      <td>2</td>\n",
       "      <td>5049400.0</td>\n",
       "      <td>145200.0</td>\n",
       "      <td>551000.0</td>\n",
       "      <td>NaN</td>\n",
       "      <td>...</td>\n",
       "      <td>122100.0</td>\n",
       "      <td>51100.0</td>\n",
       "      <td>50700.0</td>\n",
       "      <td>15800.0</td>\n",
       "      <td>18000.0</td>\n",
       "      <td>28500.0</td>\n",
       "      <td>NaN</td>\n",
       "      <td>NaN</td>\n",
       "      <td>0.0</td>\n",
       "      <td>237901.0</td>\n",
       "    </tr>\n",
       "    <tr>\n",
       "      <th>4</th>\n",
       "      <td>1125</td>\n",
       "      <td>NaN</td>\n",
       "      <td>NaN</td>\n",
       "      <td>1956</td>\n",
       "      <td>1</td>\n",
       "      <td>2</td>\n",
       "      <td>5353700.0</td>\n",
       "      <td>158700.0</td>\n",
       "      <td>576600.0</td>\n",
       "      <td>NaN</td>\n",
       "      <td>...</td>\n",
       "      <td>116900.0</td>\n",
       "      <td>54100.0</td>\n",
       "      <td>44000.0</td>\n",
       "      <td>14900.0</td>\n",
       "      <td>12400.0</td>\n",
       "      <td>26600.0</td>\n",
       "      <td>NaN</td>\n",
       "      <td>NaN</td>\n",
       "      <td>0.0</td>\n",
       "      <td>250022.0</td>\n",
       "    </tr>\n",
       "  </tbody>\n",
       "</table>\n",
       "<p>5 rows × 33 columns</p>\n",
       "</div>"
      ],
      "text/plain": [
       "   Country  Admin1 SubDiv  Year  Sex  Frmat       Pop1      Pop2      Pop3  \\\n",
       "0     1060     NaN    NaN  1980    1      7   137100.0    3400.0   15800.0   \n",
       "1     1060     NaN    NaN  1980    2      7   159000.0    4000.0   18400.0   \n",
       "2     1125     NaN    NaN  1955    1      2  5051500.0  150300.0  543400.0   \n",
       "3     1125     NaN    NaN  1955    2      2  5049400.0  145200.0  551000.0   \n",
       "4     1125     NaN    NaN  1956    1      2  5353700.0  158700.0  576600.0   \n",
       "\n",
       "   Pop4    ...        Pop18    Pop19    Pop20    Pop21    Pop22    Pop23  \\\n",
       "0   NaN    ...          NaN   5300.0      NaN   2900.0      NaN      NaN   \n",
       "1   NaN    ...          NaN   6200.0      NaN   3400.0      NaN      NaN   \n",
       "2   NaN    ...     110200.0  51100.0  41600.0  14300.0  11800.0  25300.0   \n",
       "3   NaN    ...     122100.0  51100.0  50700.0  15800.0  18000.0  28500.0   \n",
       "4   NaN    ...     116900.0  54100.0  44000.0  14900.0  12400.0  26600.0   \n",
       "\n",
       "   Pop24  Pop25   Pop26        Lb  \n",
       "0    NaN    NaN  6500.0    5000.0  \n",
       "1    NaN    NaN  7500.0    6000.0  \n",
       "2    NaN    NaN     0.0  253329.0  \n",
       "3    NaN    NaN     0.0  237901.0  \n",
       "4    NaN    NaN     0.0  250022.0  \n",
       "\n",
       "[5 rows x 33 columns]"
      ]
     },
     "execution_count": 37,
     "metadata": {},
     "output_type": "execute_result"
    }
   ],
   "source": [
    "pop.head()"
   ]
  },
  {
   "cell_type": "markdown",
   "metadata": {},
   "source": [
    "### Descriptive summary\n",
    "As we can see from above, there are 3587860 observations in `mortality` dataframe with 39 features in total. In comparison, `country` and `pop` are relatively small with dimensions of 5630x8 and 9379x33 respectively.  \n",
    "Many missing values are observed in all of the three dataframes. It is mainly due to the way how the information is recorded and reported. As suggested by the documentation provided, different countries have different categories for reporting deaths or total population. In general, there are 24 age groups which are labelled as `Death2` to `Death25` in `mortality` and `Pop2` to `Pop25` in `pop` while `Death26`, as well as `Pop26`, represent counts for unspecified age. Additionally, `Death1` and `Pop1` represent the total counts of deaths and population. In our analysis, four countries, Italy, Iceland, New Zealand and Australia, are investigated, all of them have records for all age groups. Therefore, no missing values present for those countries of interest."
   ]
  },
  {
   "cell_type": "code",
   "execution_count": 38,
   "metadata": {},
   "outputs": [],
   "source": [
    "# create a list storing corresponding meanings for columns Death2-Deaths26 and Pop2-Pop26\n",
    "age_group_label = ['0','1','2','3','4','5-9','10-14','15-19','20-24','25-29','30-34','35-39','40-44','45-49',\n",
    "                      '50-54','55-59','60-64','65-69','70-74','75-79','80-84','85-89','90-94','95+','unspecified']"
   ]
  },
  {
   "cell_type": "code",
   "execution_count": 39,
   "metadata": {},
   "outputs": [
    {
     "name": "stdout",
     "output_type": "stream",
     "text": [
      "Country code of Iceland is: 4160\n",
      "Country code of Italy is: 4180\n",
      "Country code of New Zealand is: 5150\n"
     ]
    }
   ],
   "source": [
    "# Retrieve county code for Iceland, Italy and New Zealand respectively in 2010\n",
    "iceland_code = country[(country['name']=='Iceland') & (country['Year']==2010)]['Country'].values[0]\n",
    "print('Country code of Iceland is:', iceland_code)\n",
    "italy_code = country[(country['name']=='Italy') & (country['Year']==2010)]['Country'].values[0]\n",
    "print('Country code of Italy is:', italy_code)\n",
    "new_zealand_code = country[(country['name']=='New Zealand') & (country['Year']==2010)]['Country'].values[0]\n",
    "print('Country code of New Zealand is:', new_zealand_code)"
   ]
  },
  {
   "cell_type": "code",
   "execution_count": 40,
   "metadata": {},
   "outputs": [
    {
     "name": "stdout",
     "output_type": "stream",
     "text": [
      "Number of total deaths in Iceland in 2010 is: 4038\n",
      "Number of total deaths in Italy in 2010 is: 1169230\n",
      "Number of total deaths in New Zealand in 2010 is: 57298\n"
     ]
    }
   ],
   "source": [
    "# Extract mortalities based on country code\n",
    "iceland_mor = mortality[mortality['Country']==iceland_code]\n",
    "# Calculate total deaths in 2010 in all ages\n",
    "iceland_deaths = iceland_mor[iceland_mor['Year']==2010].groupby('Country').sum()['Deaths1'].values[0]\n",
    "print('Number of total deaths in Iceland in 2010 is:', iceland_deaths)\n",
    "\n",
    "# Same procedure is repeated for the other two country\n",
    "italy_mor = mortality[mortality['Country']==italy_code]\n",
    "italy_deaths = italy_mor[italy_mor['Year']==2010].groupby('Country').sum()['Deaths1'].values[0]\n",
    "print('Number of total deaths in Italy in 2010 is:', italy_deaths)\n",
    "\n",
    "new_zealand_mor = mortality[mortality['Country']==new_zealand_code]\n",
    "new_zealand_deaths = new_zealand_mor[new_zealand_mor['Year']==2010].groupby('Country').sum()['Deaths1'].values[0]\n",
    "print('Number of total deaths in New Zealand in 2010 is:', new_zealand_deaths)"
   ]
  },
  {
   "cell_type": "code",
   "execution_count": 41,
   "metadata": {
    "scrolled": false
   },
   "outputs": [
    {
     "data": {
      "text/html": [
       "<div>\n",
       "<style scoped>\n",
       "    .dataframe tbody tr th:only-of-type {\n",
       "        vertical-align: middle;\n",
       "    }\n",
       "\n",
       "    .dataframe tbody tr th {\n",
       "        vertical-align: top;\n",
       "    }\n",
       "\n",
       "    .dataframe thead th {\n",
       "        text-align: right;\n",
       "    }\n",
       "</style>\n",
       "<table border=\"1\" class=\"dataframe\">\n",
       "  <thead>\n",
       "    <tr style=\"text-align: right;\">\n",
       "      <th></th>\n",
       "      <th>Country</th>\n",
       "      <th>Admin1</th>\n",
       "      <th>SubDiv</th>\n",
       "      <th>Year</th>\n",
       "      <th>Sex</th>\n",
       "      <th>Frmat</th>\n",
       "      <th>Pop1</th>\n",
       "      <th>Pop2</th>\n",
       "      <th>Pop3</th>\n",
       "      <th>Pop4</th>\n",
       "      <th>...</th>\n",
       "      <th>Pop18</th>\n",
       "      <th>Pop19</th>\n",
       "      <th>Pop20</th>\n",
       "      <th>Pop21</th>\n",
       "      <th>Pop22</th>\n",
       "      <th>Pop23</th>\n",
       "      <th>Pop24</th>\n",
       "      <th>Pop25</th>\n",
       "      <th>Pop26</th>\n",
       "      <th>Lb</th>\n",
       "    </tr>\n",
       "  </thead>\n",
       "  <tbody>\n",
       "    <tr>\n",
       "      <th>0</th>\n",
       "      <td>1060</td>\n",
       "      <td>NaN</td>\n",
       "      <td>NaN</td>\n",
       "      <td>1980</td>\n",
       "      <td>1</td>\n",
       "      <td>7</td>\n",
       "      <td>137100.0</td>\n",
       "      <td>3400.0</td>\n",
       "      <td>15800.0</td>\n",
       "      <td>NaN</td>\n",
       "      <td>...</td>\n",
       "      <td>NaN</td>\n",
       "      <td>5300.0</td>\n",
       "      <td>NaN</td>\n",
       "      <td>2900.0</td>\n",
       "      <td>NaN</td>\n",
       "      <td>NaN</td>\n",
       "      <td>NaN</td>\n",
       "      <td>NaN</td>\n",
       "      <td>6500.0</td>\n",
       "      <td>5000.0</td>\n",
       "    </tr>\n",
       "    <tr>\n",
       "      <th>1</th>\n",
       "      <td>1060</td>\n",
       "      <td>NaN</td>\n",
       "      <td>NaN</td>\n",
       "      <td>1980</td>\n",
       "      <td>2</td>\n",
       "      <td>7</td>\n",
       "      <td>159000.0</td>\n",
       "      <td>4000.0</td>\n",
       "      <td>18400.0</td>\n",
       "      <td>NaN</td>\n",
       "      <td>...</td>\n",
       "      <td>NaN</td>\n",
       "      <td>6200.0</td>\n",
       "      <td>NaN</td>\n",
       "      <td>3400.0</td>\n",
       "      <td>NaN</td>\n",
       "      <td>NaN</td>\n",
       "      <td>NaN</td>\n",
       "      <td>NaN</td>\n",
       "      <td>7500.0</td>\n",
       "      <td>6000.0</td>\n",
       "    </tr>\n",
       "    <tr>\n",
       "      <th>2</th>\n",
       "      <td>1125</td>\n",
       "      <td>NaN</td>\n",
       "      <td>NaN</td>\n",
       "      <td>1955</td>\n",
       "      <td>1</td>\n",
       "      <td>2</td>\n",
       "      <td>5051500.0</td>\n",
       "      <td>150300.0</td>\n",
       "      <td>543400.0</td>\n",
       "      <td>NaN</td>\n",
       "      <td>...</td>\n",
       "      <td>110200.0</td>\n",
       "      <td>51100.0</td>\n",
       "      <td>41600.0</td>\n",
       "      <td>14300.0</td>\n",
       "      <td>11800.0</td>\n",
       "      <td>25300.0</td>\n",
       "      <td>NaN</td>\n",
       "      <td>NaN</td>\n",
       "      <td>0.0</td>\n",
       "      <td>253329.0</td>\n",
       "    </tr>\n",
       "    <tr>\n",
       "      <th>3</th>\n",
       "      <td>1125</td>\n",
       "      <td>NaN</td>\n",
       "      <td>NaN</td>\n",
       "      <td>1955</td>\n",
       "      <td>2</td>\n",
       "      <td>2</td>\n",
       "      <td>5049400.0</td>\n",
       "      <td>145200.0</td>\n",
       "      <td>551000.0</td>\n",
       "      <td>NaN</td>\n",
       "      <td>...</td>\n",
       "      <td>122100.0</td>\n",
       "      <td>51100.0</td>\n",
       "      <td>50700.0</td>\n",
       "      <td>15800.0</td>\n",
       "      <td>18000.0</td>\n",
       "      <td>28500.0</td>\n",
       "      <td>NaN</td>\n",
       "      <td>NaN</td>\n",
       "      <td>0.0</td>\n",
       "      <td>237901.0</td>\n",
       "    </tr>\n",
       "    <tr>\n",
       "      <th>4</th>\n",
       "      <td>1125</td>\n",
       "      <td>NaN</td>\n",
       "      <td>NaN</td>\n",
       "      <td>1956</td>\n",
       "      <td>1</td>\n",
       "      <td>2</td>\n",
       "      <td>5353700.0</td>\n",
       "      <td>158700.0</td>\n",
       "      <td>576600.0</td>\n",
       "      <td>NaN</td>\n",
       "      <td>...</td>\n",
       "      <td>116900.0</td>\n",
       "      <td>54100.0</td>\n",
       "      <td>44000.0</td>\n",
       "      <td>14900.0</td>\n",
       "      <td>12400.0</td>\n",
       "      <td>26600.0</td>\n",
       "      <td>NaN</td>\n",
       "      <td>NaN</td>\n",
       "      <td>0.0</td>\n",
       "      <td>250022.0</td>\n",
       "    </tr>\n",
       "  </tbody>\n",
       "</table>\n",
       "<p>5 rows × 33 columns</p>\n",
       "</div>"
      ],
      "text/plain": [
       "   Country  Admin1 SubDiv  Year  Sex  Frmat       Pop1      Pop2      Pop3  \\\n",
       "0     1060     NaN    NaN  1980    1      7   137100.0    3400.0   15800.0   \n",
       "1     1060     NaN    NaN  1980    2      7   159000.0    4000.0   18400.0   \n",
       "2     1125     NaN    NaN  1955    1      2  5051500.0  150300.0  543400.0   \n",
       "3     1125     NaN    NaN  1955    2      2  5049400.0  145200.0  551000.0   \n",
       "4     1125     NaN    NaN  1956    1      2  5353700.0  158700.0  576600.0   \n",
       "\n",
       "   Pop4    ...        Pop18    Pop19    Pop20    Pop21    Pop22    Pop23  \\\n",
       "0   NaN    ...          NaN   5300.0      NaN   2900.0      NaN      NaN   \n",
       "1   NaN    ...          NaN   6200.0      NaN   3400.0      NaN      NaN   \n",
       "2   NaN    ...     110200.0  51100.0  41600.0  14300.0  11800.0  25300.0   \n",
       "3   NaN    ...     122100.0  51100.0  50700.0  15800.0  18000.0  28500.0   \n",
       "4   NaN    ...     116900.0  54100.0  44000.0  14900.0  12400.0  26600.0   \n",
       "\n",
       "   Pop24  Pop25   Pop26        Lb  \n",
       "0    NaN    NaN  6500.0    5000.0  \n",
       "1    NaN    NaN  7500.0    6000.0  \n",
       "2    NaN    NaN     0.0  253329.0  \n",
       "3    NaN    NaN     0.0  237901.0  \n",
       "4    NaN    NaN     0.0  250022.0  \n",
       "\n",
       "[5 rows x 33 columns]"
      ]
     },
     "execution_count": 41,
     "metadata": {},
     "output_type": "execute_result"
    }
   ],
   "source": [
    "pop.head()"
   ]
  },
  {
   "cell_type": "code",
   "execution_count": 42,
   "metadata": {},
   "outputs": [
    {
     "name": "stdout",
     "output_type": "stream",
     "text": [
      "Number of total pop in Iceland in 2010 is: 318041.0\n",
      "Number of total pop in Italy in 2010 is: 60483386.0\n",
      "Number of total pop in New Zealand in 2010 is: 4367360.0\n"
     ]
    }
   ],
   "source": [
    "iceland_df = pop[(pop['Country']==iceland_code)&(pop['Year']==2010)]\n",
    "iceland_pop = iceland_df.groupby('Country').sum()['Pop1'].values[0]\n",
    "print('Number of total pop in Iceland in 2010 is:', iceland_pop)\n",
    "\n",
    "italy_df = pop[(pop['Country']==italy_code)&(pop['Year']==2010)]\n",
    "italy_pop = italy_df.groupby('Country').sum()['Pop1'].values[0]\n",
    "print('Number of total pop in Italy in 2010 is:', italy_pop)\n",
    "\n",
    "new_zealand_df = pop[(pop['Country']==new_zealand_code)&(pop['Year']==2010)]\n",
    "new_zealand_pop = new_zealand_df.groupby('Country').sum()['Pop1'].values[0]\n",
    "print('Number of total pop in New Zealand in 2010 is:', new_zealand_pop)"
   ]
  },
  {
   "cell_type": "markdown",
   "metadata": {},
   "source": [
    "### Distribution of deaths by age group in Italy"
   ]
  },
  {
   "cell_type": "markdown",
   "metadata": {},
   "source": [
    "Before we plot the histogram to illustrate distribution, the data needs to be pre-processed since not all age groups have the same coverage of ages. Specifically, age from 0-4 should be grouped together and treated as one age group. Other than that, deaths for unspecified age, i.e. `Death26`, will not be included in the following study due to a low number of observations and its undefined behavior."
   ]
  },
  {
   "cell_type": "code",
   "execution_count": 43,
   "metadata": {},
   "outputs": [],
   "source": [
    "def stratified_deaths(df):\n",
    "    first_group = pd.DataFrame(df.groupby('Country').sum().loc[:,'Deaths2':'Deaths6'].sum(axis=1))\n",
    "    strata = pd.concat([first_group,df.groupby('Country').sum().loc[:,'Deaths7':'Deaths25']],axis=1)\n",
    "    columns = np.array(['0-4','5-9','10-14','15-19','20-24','25-29','30-34','35-39','40-44','45-49',\n",
    "                      '50-54','55-59','60-64','65-69','70-74','75-79','80-84','85-89','90-94','95+'])\n",
    "    strata.columns = columns\n",
    "    return strata"
   ]
  },
  {
   "cell_type": "code",
   "execution_count": 44,
   "metadata": {},
   "outputs": [],
   "source": [
    "def stratified_pop(df):\n",
    "    first_group = pd.DataFrame(df.groupby('Country').sum().loc[:,'Pop2':'Pop6'].sum(axis=1))\n",
    "    strata = pd.concat([first_group,df.groupby('Country').sum().loc[:,'Pop7':'Pop25']],axis=1)\n",
    "    columns = np.array(['0-4','5-9','10-14','15-19','20-24','25-29','30-34','35-39','40-44','45-49',\n",
    "                      '50-54','55-59','60-64','65-69','70-74','75-79','80-84','85-89','90-94','95+'])\n",
    "    strata.columns = columns\n",
    "    return strata"
   ]
  },
  {
   "cell_type": "code",
   "execution_count": 45,
   "metadata": {
    "scrolled": true
   },
   "outputs": [],
   "source": [
    "# italy_mor.groupby('Country').sum().loc[:,'Deaths2':'Deaths25']\n",
    "# Distribution of deaths grouped by country code of Italy\n",
    "# italy_distribution = italy_mor.groupby('Country').sum().loc[:,'Deaths2':'Deaths25']"
   ]
  },
  {
   "cell_type": "code",
   "execution_count": 46,
   "metadata": {
    "scrolled": true
   },
   "outputs": [],
   "source": [
    "# Distribution of deaths grouped by country code of Italy\n",
    "italy_distribution = stratified_deaths(italy_mor)"
   ]
  },
  {
   "cell_type": "code",
   "execution_count": 47,
   "metadata": {
    "scrolled": false
   },
   "outputs": [
    {
     "data": {
      "text/plain": [
       "<BarContainer object of 20 artists>"
      ]
     },
     "execution_count": 47,
     "metadata": {},
     "output_type": "execute_result"
    },
    {
     "data": {
      "image/png": "[encoded data removed]",
      "text/plain": [
       "<Figure size 1080x432 with 1 Axes>"
      ]
     },
     "metadata": {
      "needs_background": "light"
     },
     "output_type": "display_data"
    }
   ],
   "source": [
    "# set figure size, labels and title\n",
    "plt.rcParams[\"figure.figsize\"] = (15,6)\n",
    "plt.xlabel('Age group')\n",
    "plt.ylabel('Number of deaths')\n",
    "plt.title('Distribution of total number of deaths (all causes) in Italy from 2003-2015 across all age groups ')\n",
    "\n",
    "pos = np.arange(20)\n",
    "column_label = np.array(['0','5','10','15','20','25','30','35','40','45',\n",
    "                      '50','55','60','65','70','75','80','85','90','95'])\n",
    "# Draw the distribution\n",
    "plt.bar(x=pos, height=italy_distribution.values[0],tick_label=column_label,width=1,edgecolor='k',align='edge')"
   ]
  },
  {
   "cell_type": "markdown",
   "metadata": {},
   "source": [
    "### Top 5 types of neoplasm deaths in Italy in 2010\n",
    "Neoplasm (or tumor) is an important characteristic for cancer diagnosis. The prevalence of neoplasm can, to some extent, reflect how many deaths are related to cancer and provide useful information about healthcare quality in different countries. By looking further into the number of deaths caused by each type of neoplasm, it may also provide insights for clinicians how severe each type of neoplasm is and adopt appropriate actions to the patients.\n",
    "\n",
    "In our dataset, the cause of deaths is recorded using ICD-10 standard where the codes for [neoplasm](https://www.icd10data.com/ICD10CM/Codes/C00-D49) are from C00 to D48. Note that D49 which implies ***Neoplasms of unspecified behavior*** will not be considered for its vague definition and uncertainty. \n",
    "\n",
    "The cause of deaths is the column `Cause` in `mortality` dataframe"
   ]
  },
  {
   "cell_type": "code",
   "execution_count": 48,
   "metadata": {},
   "outputs": [
    {
     "name": "stdout",
     "output_type": "stream",
     "text": [
      "       Deaths1\n",
      "Cause         \n",
      "C349    426451\n",
      "C509    155895\n",
      "C189    143188\n",
      "C169    125679\n",
      "C259    120070\n"
     ]
    }
   ],
   "source": [
    "# Find all deaths related to neoplasm in italy\n",
    "neoplasm = italy_mor[(italy_mor['Cause']>='C00')&(italy_mor['Cause']<'D49')]\n",
    "\n",
    "# Calculate total number of deaths grouped by each type of neoplasm defined in ICD-10\n",
    "neoplasm_top5 = neoplasm.groupby('Cause').sum()[['Deaths1']].sort_values(by='Deaths1',ascending=False).head(5)\n",
    "print(neoplasm_top5)\n",
    "neoplasm_not_top5 = neoplasm.groupby('Cause').sum()[['Deaths1']].sort_values(by='Deaths1',ascending=False)[5:].sum()\n",
    "neoplasm_top5 = neoplasm_top5.append(neoplasm_not_top5,ignore_index=True)\n",
    "neoplasm_top5.columns = ['Number of deaths']\n",
    "\n",
    "# Calculate total number deaths for all causes\n",
    "total_deaths = italy_mor.groupby('Country').sum()['Deaths1'].values[0]\n",
    "# Calculate the proportion of deaths caused by each type of neoplasm in the total number of deaths\n",
    "neoplasm_top5['Proportion of deaths for all causes (%)'] = neoplasm_top5*100.0/(total_deaths*1.0)\n",
    "# Describe the specific associated organs indicated by the ICD CODE\n",
    "neoplasm_top5['Description']=['Lung','Breast','Colon','Stomach','Pancreas','Other types of neoplasm']\n",
    "neoplasm_top5.set_index('Description',inplace=True)"
   ]
  },
  {
   "cell_type": "code",
   "execution_count": 49,
   "metadata": {},
   "outputs": [],
   "source": [
    "# Define a helper function to label the piechart\n",
    "def pie_label(pct,data):\n",
    "    absolute = (pct/100.0) * np.sum(data)\n",
    "    return \"{:.1f}%\\n({:.3f}% of deaths for all causes)\".format(pct, absolute)"
   ]
  },
  {
   "cell_type": "code",
   "execution_count": 50,
   "metadata": {
    "scrolled": false
   },
   "outputs": [
    {
     "data": {
      "text/plain": [
       "Text(0,0.5,'')"
      ]
     },
     "execution_count": 50,
     "metadata": {},
     "output_type": "execute_result"
    },
    {
     "data": {
      "image/png": "[encoded data removed]",
      "text/plain": [
       "<Figure size 432x432 with 1 Axes>"
      ]
     },
     "metadata": {},
     "output_type": "display_data"
    }
   ],
   "source": [
    "data = neoplasm_top5['Proportion of deaths for all causes (%)']\n",
    "# Set figure size and title\n",
    "plt.rcParams[\"figure.figsize\"] = (6,6)\n",
    "\n",
    "plt.title('Pie chart of Top5 causes of deaths from neoplasm in Italy')\n",
    "\n",
    "# Draw the pie chart\n",
    "neoplasm_top5['Proportion of deaths for all causes (%)'].plot(kind='pie',startangle=90,shadow=True,explode=(0.1,0,0,0,0,0),\n",
    "                                                      radius=1.2,autopct=lambda pct: pie_label(pct, data))\n",
    "plt.ylabel('')"
   ]
  },
  {
   "cell_type": "markdown",
   "metadata": {},
   "source": [
    "The top 5 causes of neoplasm deaths in Italy in 2010 is:\n",
    "\n",
    "| ICD-10 Code        | Number of deaths           | Description |\n",
    "| ------------- |-------------|-----|\n",
    "| [C349](https://icd.codes/icd10cm/C349) | 426451 | C34.9 Malignant neoplasm of unspecified part of bronchus or lung |\n",
    "| [C509](https://icd.codes/icd10cm/C509) | 155895 | C50.9 Malignant neoplasm of breast of unspecified site |\n",
    "| [C189](https://icd.codes/icd10cm/C189) | 143188 | C18.9 Malignant neoplasm of colon, unspecified |\n",
    "| [C169](https://icd.codes/icd10cm/C169) | 125679 | C16.9 Malignant neoplasm of stomach, unspecified |\n",
    "| [C259](https://icd.codes/icd10cm/C259) | 120070 | C25.9 Malignant neoplasm of pancreas, unspecified |\n",
    "\n",
    "We can see that **C34.9 Malignant neoplasm of unspecified part of bronchus or lung** is the number one cause of neoplasm deaths in Italy in 2010, which constitute 19% of deaths of all types of neoplasm and 2.791% of deaths for all causes (including neoplasm)."
   ]
  },
  {
   "cell_type": "markdown",
   "metadata": {},
   "source": [
    "### Top 5 age groups of highest number of deaths due to neoplasm in Australia in 2010"
   ]
  },
  {
   "cell_type": "code",
   "execution_count": 51,
   "metadata": {},
   "outputs": [],
   "source": [
    "age_group_label = np.array(['0-4','5-9','10-14','15-19','20-24','25-29','30-34','35-39','40-44','45-49',\n",
    "                      '50-54','55-59','60-64','65-69','70-74','75-79','80-84','85-89','90-94','95+'])\n"
   ]
  },
  {
   "cell_type": "code",
   "execution_count": 52,
   "metadata": {
    "scrolled": false
   },
   "outputs": [
    {
     "name": "stdout",
     "output_type": "stream",
     "text": [
      "Country code of Australia is: 5020\n"
     ]
    },
    {
     "data": {
      "text/plain": [
       "Text(0.5,1,'Top 5 age groups in Australia dying with Neoplasms cause of death')"
      ]
     },
     "execution_count": 52,
     "metadata": {},
     "output_type": "execute_result"
    },
    {
     "data": {
      "image/png": "[encoded data removed]",
      "text/plain": [
       "<Figure size 432x432 with 1 Axes>"
      ]
     },
     "metadata": {
      "needs_background": "light"
     },
     "output_type": "display_data"
    }
   ],
   "source": [
    "# Find country code of Australia\n",
    "aus_code = country[(country['name']=='Australia') & (country['Year']==2010)]['Country'].values[0]\n",
    "print('Country code of Australia is:', aus_code)\n",
    "\n",
    "# Use the country code to find all records of neoplasm deaths in Australia in 2010\n",
    "aus_mor = mortality[mortality['Country']==aus_code]\n",
    "neoplasm_aus_2010 = aus_mor[(aus_mor['Cause']>='C00')&(aus_mor['Cause']<'D49')&(aus_mor['Year']==2010)]\n",
    "\n",
    "# byage_aus = neoplasm_aus_2010.groupby('Country').sum().loc[:,'Deaths2':'Deaths26']\n",
    "# Stratify the result in different age group\n",
    "byage_aus = stratified_deaths(neoplasm_aus_2010)\n",
    "# Change to a more intuitive column name\n",
    "byage_aus.columns= age_group_label\n",
    "# Select top5 neoplasm types that result to most deaths\n",
    "byage_aus = byage_aus.transpose()\n",
    "byage_aus.columns=['Deaths in Australia']\n",
    "byage_aus.index.names=['Age Group']\n",
    "age_death_top5= byage_aus.sort_values(by='Deaths in Australia',ascending = False).head(5)\n",
    "\n",
    "# Plot horizontal bar chart to show the top 5 deadly neoplasm types\n",
    "age_death_top5.plot(kind='barh',legend=False,color=tuple(['r','g','b','k']))\n",
    "plt.gca().invert_yaxis()\n",
    "plt.xlabel('Number of Deaths due to Neoplasm',fontsize=20)\n",
    "plt.ylabel('Age group',fontsize=20)\n",
    "plt.title('Top 5 age groups in Australia dying with Neoplasms cause of death',fontsize=20)"
   ]
  },
  {
   "cell_type": "markdown",
   "metadata": {},
   "source": [
    "### Comparison of neoplasm deaths in Italy and Australia in 2010"
   ]
  },
  {
   "cell_type": "markdown",
   "metadata": {},
   "source": [
    "Firstly, let us denote:\n",
    "* the total number of population in Italy as $I$\n",
    "* the total number of population in Australia as $A$\n",
    "* the number of population in group $g$ as $i_g$ and $a_g$ in Italy and Australia, respectively\n",
    "* the total number of neoplasm deaths in Italy as $DI$\n",
    "* the total number of neoplasm deaths in Australia as $DA$\n",
    "* the number of neoplasm deaths in group $g$ as $di_g$ and $da_g$ in Italy and Australia, respectively\n",
    "\n",
    "Then we have:\n",
    "* $I = \\sum_{g=1}^{20} i_g$\n",
    "* $A = \\sum_{g=1}^{20} a_g$ \n",
    "* $DI = \\sum_{g=1}^{20} di_g$\n",
    "* $DA = \\sum_{g=1}^{20} da_g$ \n",
    "\n",
    "In order to compare the neoplasm deaths in both countries in 2010, we can compare:\n",
    "* The absolute number of neoplasm deaths in each group, i.e. $di_g$ and $da_g$ for $g = 1...20$\n",
    "* The percentage of deaths with respect to the whole poluation, i.e. $\\frac{di_g}{I}$ and $\\frac{da_g}{A}$ for $g = 1...20$\n",
    "* The percentage of deaths in each group, i.e. $\\frac{di_g}{ig}$ and $\\frac{da_g}{ag}$ for $g = 1...20$"
   ]
  },
  {
   "cell_type": "markdown",
   "metadata": {},
   "source": [
    "#### The absolute number of neoplasm deaths in each group"
   ]
  },
  {
   "cell_type": "code",
   "execution_count": 53,
   "metadata": {},
   "outputs": [],
   "source": [
    "ita_pop = italy_pop # Total number of people in Italy in 2010 as calculated in previous part\n",
    "\n",
    "# Calculate total number of people in Australia in 2010\n",
    "aus_df = pop[(pop['Country']==aus_code)&(pop['Year']==2010)]\n",
    "aus_pop = aus_df.groupby('Country').sum()['Pop1'].values[0]\n",
    "\n",
    "# Calculate number of deaths in each age strata in Australia in 2010\n",
    "# aus_pop_stra = aus_df.groupby('Country').sum().loc[:,'Pop2':'Pop26']\n",
    "aus_pop_stra = stratified_pop(aus_df)\n",
    "aus_pop_stra.columns= age_group_label\n",
    "aus_pop_stra = aus_pop_stra.transpose()\n",
    "aus_pop_stra.columns=['Number of population in Australia']\n",
    "\n",
    "# Calculate number of deaths in each age strata in Italy in 2010\n",
    "# ita_pop_stra = italy_df.groupby('Country').sum().loc[:,'Pop2':'Pop26']\n",
    "ita_pop_stra = stratified_pop(italy_df)\n",
    "ita_pop_stra.columns= age_group_label\n",
    "ita_pop_stra = ita_pop_stra.transpose()\n",
    "ita_pop_stra.columns=['Number of population in Italy']\n",
    "\n",
    "byage_aus = byage_aus # neoplasm related deaths by age group in Austalia in 2010 as calculated in previous part\n",
    "\n",
    "# Calculate neoplasm related deaths by age group in Italy in 2010\n",
    "neoplasm_ita_2010 = italy_mor[(italy_mor['Cause']>='C00')&(italy_mor['Cause']<'D49')&(italy_mor['Year']==2010)]\n",
    "#byage_ita = neoplasm_ita_2010.groupby('Country').sum().loc[:,'Deaths2':'Deaths26']\n",
    "byage_ita = stratified_deaths(neoplasm_ita_2010)\n",
    "byage_ita.columns= age_group_label\n",
    "byage_ita = byage_ita.transpose()\n",
    "byage_ita.columns=['Deaths in Italy']"
   ]
  },
  {
   "cell_type": "code",
   "execution_count": 54,
   "metadata": {},
   "outputs": [
    {
     "data": {
      "text/plain": [
       "Text(0,0.5,'Number of total population')"
      ]
     },
     "execution_count": 54,
     "metadata": {},
     "output_type": "execute_result"
    },
    {
     "data": {
      "image/png": "[encoded data removed]",
      "text/plain": [
       "<Figure size 1080x720 with 2 Axes>"
      ]
     },
     "metadata": {
      "needs_background": "light"
     },
     "output_type": "display_data"
    }
   ],
   "source": [
    "plt.rcParams[\"figure.figsize\"] = (15,10)\n",
    "\n",
    "# Plot and compare age group stratified deaths in Italy and Australis\n",
    "ax0 = byage_ita.plot(kind='line',linewidth=5)\n",
    "ax0.set_xlabel('Age group',fontsize=20)\n",
    "ax0.set_ylabel('Absolute number of neoplasm deaths',fontsize=20)\n",
    "ax0.set_title('Comparison of absolution number of neoplasm deaths between Australia and Italy within each age group',fontsize=20)\n",
    "ax0.set_xticks(np.arange(25))\n",
    "ax0.set_xticklabels(age_group_label)\n",
    "\n",
    "byage_aus.plot(kind='line',ax = ax0,linewidth=5)\n",
    "\n",
    "# Plot the total population distribution with a secondary y-axis on the right\n",
    "ita_pop_stra.plot(kind='bar',ax = ax0,secondary_y=True,alpha=0.3,width=1,edgecolor='k')\n",
    "aus_pop_stra.plot(kind='bar',ax = ax0,secondary_y=True,alpha=0.3,width=1,edgecolor='k',color='r')\n",
    "# label secondary y-axis\n",
    "plt.ylabel('Number of total population',fontsize=20)"
   ]
  },
  {
   "cell_type": "markdown",
   "metadata": {},
   "source": [
    "- From the graph, we can see that the age distribution in those two countries is slightly different. Italy has significantly more population ageing between 30 and 60 than between 0 and 30. While Australia has a smooth distribution of age from 0 to 60.\n",
    "- Meanwhile, starting from age of 30, there are increasingly more deaths due to neoplasm and the number starts to decrease after 80 years old in both countries. \n",
    "- Additionally, we can see people are more likely to die of neoplasm when they get older, this is what is expected from the biological point of view.\n",
    "- Age group 80-84 has a higher number of neoplasm deaths in both countries\n",
    "- It is also observed that even the number of the population starts to decrease after 45-49 age group, the number of deaths caused by neoplasm still keeps increasing until it reaches a peak at the age group of 80-84 in both countries. This implies an even sharper increase in the proportion of people dead due to neoplasm in those age groups.\n",
    "- However, based on the absolute number of deaths in each age group, we cannot draw any conclusion that people in Italy are more prone to death due to neoplasm, further analysis is to be done...\n"
   ]
  },
  {
   "cell_type": "markdown",
   "metadata": {},
   "source": [
    "#### The percentage of deaths with respect to the whole poluation"
   ]
  },
  {
   "cell_type": "code",
   "execution_count": 55,
   "metadata": {
    "scrolled": false
   },
   "outputs": [
    {
     "data": {
      "text/plain": [
       "[Text(0,0,'0-4'),\n",
       " Text(0,0,'5-9'),\n",
       " Text(0,0,'10-14'),\n",
       " Text(0,0,'15-19'),\n",
       " Text(0,0,'20-24'),\n",
       " Text(0,0,'25-29'),\n",
       " Text(0,0,'30-34'),\n",
       " Text(0,0,'35-39'),\n",
       " Text(0,0,'40-44'),\n",
       " Text(0,0,'45-49'),\n",
       " Text(0,0,'50-54'),\n",
       " Text(0,0,'55-59'),\n",
       " Text(0,0,'60-64'),\n",
       " Text(0,0,'65-69'),\n",
       " Text(0,0,'70-74'),\n",
       " Text(0,0,'75-79'),\n",
       " Text(0,0,'80-84'),\n",
       " Text(0,0,'85-89'),\n",
       " Text(0,0,'90-94'),\n",
       " Text(0,0,'95+')]"
      ]
     },
     "execution_count": 55,
     "metadata": {},
     "output_type": "execute_result"
    },
    {
     "data": {
      "image/png": "[encoded data removed]",
      "text/plain": [
       "<Figure size 1080x720 with 1 Axes>"
      ]
     },
     "metadata": {
      "needs_background": "light"
     },
     "output_type": "display_data"
    }
   ],
   "source": [
    "byage_whole = pd.concat([byage_ita*100.0/italy_pop,byage_aus*100.0/aus_pop],axis=1)\n",
    "\n",
    "plt.rcParams[\"figure.figsize\"] = (15,10)\n",
    "ax1 = byage_whole.plot(kind='bar')\n",
    "ax1.set_ylabel('Percentage for neoplasm deaths of the whole population (%)', fontsize=15)\n",
    "ax1.set_xlabel('Age group', fontsize=15)\n",
    "ax1.set_title('Comparison of percentage for neoplasm deaths of the whole population between Australia and Italy within each age group',fontsize=20)\n",
    "ax1.set_xticks(np.arange(20))\n",
    "ax1.set_xticklabels(age_group_label)\n"
   ]
  },
  {
   "cell_type": "markdown",
   "metadata": {},
   "source": [
    "- Firstly, we should see that the scale of the y-axis is very small (about 0.06% as maximum), therefore, for both countries, the prevalence of neoplasm deaths is relatively low. \n",
    "- We can also see that, almost for every age group, there is a larger proportion of deaths caused by neoplasm among the whole population in Italy. Therefore, we can conclude that the overall prevalence of neoplasm deaths is higher in Italy.\n"
   ]
  },
  {
   "cell_type": "code",
   "execution_count": 56,
   "metadata": {},
   "outputs": [
    {
     "name": "stdout",
     "output_type": "stream",
     "text": [
      "percentage for neoplasm resulted deaths of the whole population in Australia: 0.194%\n",
      "percentage for neoplasm resulted deaths of the whole population Italy: 0.289%\n"
     ]
    }
   ],
   "source": [
    "print('percentage for neoplasm resulted deaths of the whole population in Australia: {0:.3f}%'.format(byage_aus.values.sum()*100.0/aus_pop))\n",
    "print('percentage for neoplasm resulted deaths of the whole population Italy: {0:.3f}%'.format(byage_ita.values.sum()*100.0/italy_pop))"
   ]
  },
  {
   "cell_type": "markdown",
   "metadata": {},
   "source": [
    "* This proves our conclusion above, the overall percentage of neoplasm deaths is 0.289% and 0.194% in Italy and Australia respectively in 2010."
   ]
  },
  {
   "cell_type": "markdown",
   "metadata": {},
   "source": [
    "#### The percentage of deaths in each group"
   ]
  },
  {
   "cell_type": "code",
   "execution_count": 57,
   "metadata": {},
   "outputs": [
    {
     "data": {
      "text/plain": [
       "[Text(0,0,'0-4'),\n",
       " Text(0,0,'5-9'),\n",
       " Text(0,0,'10-14'),\n",
       " Text(0,0,'15-19'),\n",
       " Text(0,0,'20-24'),\n",
       " Text(0,0,'25-29'),\n",
       " Text(0,0,'30-34'),\n",
       " Text(0,0,'35-39'),\n",
       " Text(0,0,'40-44'),\n",
       " Text(0,0,'45-49'),\n",
       " Text(0,0,'50-54'),\n",
       " Text(0,0,'55-59'),\n",
       " Text(0,0,'60-64'),\n",
       " Text(0,0,'65-69'),\n",
       " Text(0,0,'70-74'),\n",
       " Text(0,0,'75-79'),\n",
       " Text(0,0,'80-84'),\n",
       " Text(0,0,'85-89'),\n",
       " Text(0,0,'90-94'),\n",
       " Text(0,0,'95+')]"
      ]
     },
     "execution_count": 57,
     "metadata": {},
     "output_type": "execute_result"
    },
    {
     "data": {
      "image/png": "[encoded data removed]",
      "text/plain": [
       "<Figure size 1080x720 with 1 Axes>"
      ]
     },
     "metadata": {
      "needs_background": "light"
     },
     "output_type": "display_data"
    }
   ],
   "source": [
    "byage_stra = pd.concat([byage_ita*100.0/ita_pop_stra.values,byage_aus*100.0/aus_pop_stra.values],axis=1)\n",
    "\n",
    "ax2 = (byage_stra).plot(kind='bar')\n",
    "ax2.set_xlabel('Age group',fontsize=20)\n",
    "ax2.set_ylabel('Percentage for neoplasm deaths in each age group (%)',fontsize=20)\n",
    "ax2.set_title('Comparison of percentage for neoplasm deaths within each age group between Australia and Italy',fontsize=20)\n",
    "ax2.set_xticks(np.arange(20))\n",
    "ax2.set_xticklabels(age_group_label)\n"
   ]
  },
  {
   "cell_type": "markdown",
   "metadata": {},
   "source": [
    "- From the figure above, we can clearly see that the **proportion of deaths due to neoplasm in each age group** is almost the same in both countries.\n",
    "- Australia suffered a **higher deaths rate** of neoplasm in older age groups. \n",
    "- It is also noted that for people ageing 95+, there is a **decrease** in the proportion of deaths due to neoplasm in Italy while an **increase** in Australia, although, the difference is less than 0.3%."
   ]
  },
  {
   "cell_type": "markdown",
   "metadata": {},
   "source": [
    "### Conclusion\n",
    "* Neoplasm is more likely to be the cause of deaths for older people in both countries, which suggests that extensive health care for neoplasm should be offered to older people, especially people who are more than 50 years old. \n",
    "* Both countries did not suffer high mortality of neoplasm in 2010.\n",
    "* Overall, Neoplasm caused deaths were more prevalent in Italy in 2010.\n",
    "* However, for people who were 85 or older, the death rate was higher in Australia in 2010."
   ]
  },
  {
   "cell_type": "code",
   "execution_count": null,
   "metadata": {},
   "outputs": [],
   "source": []
  }
 ],
 "metadata": {
  "kernelspec": {
   "display_name": "Python 3",
   "language": "python",
   "name": "python3"
  },
  "language_info": {
   "codemirror_mode": {
    "name": "ipython",
    "version": 3
   },
   "file_extension": ".py",
   "mimetype": "text/x-python",
   "name": "python",
   "nbconvert_exporter": "python",
   "pygments_lexer": "ipython3",
   "version": "3.7.0"
  }
 },
 "nbformat": 4,
 "nbformat_minor": 2
}
